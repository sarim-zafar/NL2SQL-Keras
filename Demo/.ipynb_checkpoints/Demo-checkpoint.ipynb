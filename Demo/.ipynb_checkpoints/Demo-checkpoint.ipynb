{
 "cells": [
  {
   "cell_type": "code",
   "execution_count": 1,
   "metadata": {
    "scrolled": true
   },
   "outputs": [
    {
     "name": "stderr",
     "output_type": "stream",
     "text": [
      "Using TensorFlow backend.\n"
     ]
    }
   ],
   "source": [
    "import pandas as pd\n",
    "from sqlalchemy import create_engine\n",
    "from joblib import dump, load\n",
    "from keras.preprocessing.sequence import pad_sequences\n",
    "import numpy as np\n",
    "\n",
    "from select_col import get_col_model\n",
    "from agg_col import get_agg_model\n",
    "from k_where import get_k_where_model\n",
    "from where_col import get_where_col_model\n",
    "from where_ops import get_where_ops_model\n",
    "from where_value import get_where_value_model"
   ]
  },
  {
   "cell_type": "code",
   "execution_count": 2,
   "metadata": {},
   "outputs": [
    {
     "data": {
      "text/plain": [
       "[(0, 'alan', '1st year', 'CS'),\n",
       " (1, 'joe', '2nd year', 'EE'),\n",
       " (2, 'rick', '3rd year', 'CE')]"
      ]
     },
     "execution_count": 2,
     "metadata": {},
     "output_type": "execute_result"
    }
   ],
   "source": [
    "#create a dummy database\n",
    "table_name='users'\n",
    "engine = create_engine('sqlite://', echo=False)\n",
    "\n",
    "df = pd.DataFrame({'name' : ['alan', 'joe', 'rick'],\n",
    "                  'year': ['1st year','2nd year','3rd year'],\n",
    "                  'major':['CS','EE','CE']})\n",
    "\n",
    "df.to_sql(table_name, con=engine)\n",
    "engine.execute(\"SELECT * FROM users\").fetchall()"
   ]
  },
  {
   "cell_type": "code",
   "execution_count": 3,
   "metadata": {},
   "outputs": [],
   "source": [
    "NLQ='what is the major of the user with name joe '"
   ]
  },
  {
   "cell_type": "code",
   "execution_count": 4,
   "metadata": {},
   "outputs": [],
   "source": [
    "#load the tokenizer\n",
    "tokenizer=load('tokenizer.joblib')\n",
    "max_len=419\n",
    "max_token_index=1246"
   ]
  },
  {
   "cell_type": "code",
   "execution_count": 5,
   "metadata": {},
   "outputs": [],
   "source": [
    "def sketch2Query(table_name,agg_col,select_col,where_cols,where_ops,where_values):\n",
    "    temp='SELECT '\n",
    "    if agg_col!='':\n",
    "        temp+=agg_col+'('\n",
    "        temp+=select_col+')'\n",
    "    else:\n",
    "        temp+=select_col\n",
    "    temp+=' FROM '+table_name\n",
    "    if len(where_cols)==0:\n",
    "        return temp+';'\n",
    "    elif len(where_cols)>1:\n",
    "        temp+=' WHERE '+where_cols[0]+' '+where_ops[0]+' '+where_values[0]\n",
    "        for i in range(1,len(where_cols)):\n",
    "            temp+='AND WHERE '+where_cols[i]+' '+where_ops[i]+' '+where_values[i]\n",
    "    else:\n",
    "        temp+=' WHERE '+where_cols[0]+' '+where_ops[0]+' \"'+where_values[0]+'\"'\n",
    "    return temp+';'"
   ]
  },
  {
   "cell_type": "code",
   "execution_count": 6,
   "metadata": {},
   "outputs": [],
   "source": [
    "def text2seq(text):\n",
    "    return np.ravel(pad_sequences(tokenizer.texts_to_sequences([text]),maxlen=max_len,padding='post'))\n"
   ]
  },
  {
   "cell_type": "code",
   "execution_count": 7,
   "metadata": {},
   "outputs": [
    {
     "name": "stdout",
     "output_type": "stream",
     "text": [
      "WARNING:tensorflow:From /anaconda3/envs/deep/lib/python3.6/site-packages/tensorflow/python/framework/op_def_library.py:263: colocate_with (from tensorflow.python.framework.ops) is deprecated and will be removed in a future version.\n",
      "Instructions for updating:\n",
      "Colocations handled automatically by placer.\n"
     ]
    }
   ],
   "source": [
    "select_col_model=get_col_model()"
   ]
  },
  {
   "cell_type": "code",
   "execution_count": 8,
   "metadata": {},
   "outputs": [
    {
     "data": {
      "text/plain": [
       "[array([[1.0633502]], dtype=float32),\n",
       " array([[1.0431721]], dtype=float32),\n",
       " array([[0.85307306]], dtype=float32)]"
      ]
     },
     "execution_count": 8,
     "metadata": {},
     "output_type": "execute_result"
    }
   ],
   "source": [
    "#distance based\n",
    "input_q=text2seq(NLQ)\n",
    "preds_col=[]\n",
    "for column in df.columns:\n",
    "    input_c=text2seq(column)\n",
    "    preds_col.append(select_col_model.predict([[input_q],[input_c]]))\n",
    "preds_col"
   ]
  },
  {
   "cell_type": "code",
   "execution_count": 9,
   "metadata": {},
   "outputs": [
    {
     "data": {
      "text/plain": [
       "'major'"
      ]
     },
     "execution_count": 9,
     "metadata": {},
     "output_type": "execute_result"
    }
   ],
   "source": [
    "selected_col=df.columns[np.argmin(preds_col)]\n",
    "selected_col"
   ]
  },
  {
   "cell_type": "code",
   "execution_count": 10,
   "metadata": {},
   "outputs": [],
   "source": [
    "#get if there is a agg column\n",
    "#softmax\n",
    "lb_agg=load('lb_agg.joblib')\n",
    "agg_model=get_agg_model()"
   ]
  },
  {
   "cell_type": "code",
   "execution_count": 11,
   "metadata": {},
   "outputs": [
    {
     "data": {
      "text/plain": [
       "array([[9.8474979e-01, 7.3686393e-04, 7.7564674e-03, 8.4247455e-05,\n",
       "        4.8483445e-05, 6.6239852e-03]], dtype=float32)"
      ]
     },
     "execution_count": 11,
     "metadata": {},
     "output_type": "execute_result"
    }
   ],
   "source": [
    "input_c=text2seq(selected_col)\n",
    "pred_agg=agg_model.predict([[input_q],[input_c]])\n",
    "pred_agg"
   ]
  },
  {
   "cell_type": "code",
   "execution_count": 12,
   "metadata": {},
   "outputs": [
    {
     "data": {
      "text/plain": [
       "array([''], dtype='<U5')"
      ]
     },
     "execution_count": 12,
     "metadata": {},
     "output_type": "execute_result"
    }
   ],
   "source": [
    "pred_agg=lb_agg.inverse_transform(pred_agg)\n",
    "pred_agg"
   ]
  },
  {
   "cell_type": "code",
   "execution_count": 13,
   "metadata": {},
   "outputs": [],
   "source": [
    "#How many where clauses do we need\n",
    "lb_k=load('lb_k.joblib')\n",
    "k_where_model=get_k_where_model()"
   ]
  },
  {
   "cell_type": "code",
   "execution_count": 14,
   "metadata": {},
   "outputs": [
    {
     "data": {
      "text/plain": [
       "array([[1.5023233e-04, 9.3717235e-01, 6.1912246e-02, 7.4570067e-04,\n",
       "        1.9479246e-05]], dtype=float32)"
      ]
     },
     "execution_count": 14,
     "metadata": {},
     "output_type": "execute_result"
    }
   ],
   "source": [
    "#softmax based\n",
    "pred_k_where=k_where_model.predict([[input_q]])\n",
    "pred_k_where"
   ]
  },
  {
   "cell_type": "code",
   "execution_count": 15,
   "metadata": {},
   "outputs": [
    {
     "data": {
      "text/plain": [
       "array([1])"
      ]
     },
     "execution_count": 15,
     "metadata": {},
     "output_type": "execute_result"
    }
   ],
   "source": [
    "pred_k_where=lb_k.inverse_transform(pred_k_where)\n",
    "pred_k_where"
   ]
  },
  {
   "cell_type": "code",
   "execution_count": 16,
   "metadata": {},
   "outputs": [],
   "source": [
    "#Predict the where clause columns\n",
    "where_col_model=get_where_col_model()"
   ]
  },
  {
   "cell_type": "code",
   "execution_count": 17,
   "metadata": {},
   "outputs": [
    {
     "data": {
      "text/plain": [
       "array([0.4337846 , 0.42755792, 0.76692   ], dtype=float32)"
      ]
     },
     "execution_count": 17,
     "metadata": {},
     "output_type": "execute_result"
    }
   ],
   "source": [
    "#distance based\n",
    "preds_where_col=[]\n",
    "for column in df.columns:\n",
    "    input_c=text2seq(column)\n",
    "    preds_where_col.append(where_col_model.predict([[input_q],[input_c]]))\n",
    "preds_where_col=np.ravel(preds_where_col)\n",
    "preds_where_col"
   ]
  },
  {
   "cell_type": "code",
   "execution_count": 18,
   "metadata": {},
   "outputs": [
    {
     "data": {
      "text/plain": [
       "['year']"
      ]
     },
     "execution_count": 18,
     "metadata": {},
     "output_type": "execute_result"
    }
   ],
   "source": [
    "#select k columns\n",
    "k=pred_k_where[0]\n",
    "min_dist_idx = np.argsort(preds_where_col)[:k]\n",
    "where_columns=[]\n",
    "for idx in min_dist_idx:\n",
    "    where_columns.append(df.columns[idx])\n",
    "where_columns"
   ]
  },
  {
   "cell_type": "code",
   "execution_count": 19,
   "metadata": {},
   "outputs": [],
   "source": [
    "#select the cond ops\n",
    "#softmax\n",
    "lb_ops=load('lb_ops.joblib')\n",
    "where_ops_model=get_where_ops_model()"
   ]
  },
  {
   "cell_type": "code",
   "execution_count": 20,
   "metadata": {},
   "outputs": [
    {
     "name": "stdout",
     "output_type": "stream",
     "text": [
      "[[0.00618434 0.9869921  0.00682344]]\n"
     ]
    },
    {
     "data": {
      "text/plain": [
       "['=']"
      ]
     },
     "execution_count": 20,
     "metadata": {},
     "output_type": "execute_result"
    }
   ],
   "source": [
    "where_ops=[]\n",
    "for column in where_columns:\n",
    "    input_c=text2seq(column)\n",
    "    print(where_ops_model.predict([[input_q],[input_c]]))\n",
    "    where_ops.append(lb_ops.inverse_transform(where_ops_model.predict([[input_q],[input_c]]))[0])\n",
    "where_ops"
   ]
  },
  {
   "cell_type": "code",
   "execution_count": 21,
   "metadata": {},
   "outputs": [],
   "source": [
    "#Predict the where clause columns\n",
    "#start and end sequence\n",
    "where_value_model=get_where_value_model()"
   ]
  },
  {
   "cell_type": "code",
   "execution_count": 22,
   "metadata": {},
   "outputs": [
    {
     "data": {
      "text/plain": [
       "['with name joe']"
      ]
     },
     "execution_count": 22,
     "metadata": {},
     "output_type": "execute_result"
    }
   ],
   "source": [
    "where_values=[]\n",
    "for i in range(len(where_columns)):\n",
    "    input_c=text2seq(where_columns[i])\n",
    "    input_ops=lb_ops.transform(where_ops)[i]\n",
    "    temp=where_value_model.predict([[input_q],[input_c],[input_ops]])\n",
    "    where_values.append(NLQ[np.argmax(temp[0]):np.argmax(temp[1])])\n",
    "where_values"
   ]
  },
  {
   "cell_type": "code",
   "execution_count": 23,
   "metadata": {},
   "outputs": [
    {
     "name": "stdout",
     "output_type": "stream",
     "text": [
      "SELECT major FROM users WHERE year = \"with name joe\";\n"
     ]
    }
   ],
   "source": [
    "print(sketch2Query(table_name,pred_agg,selected_col,where_columns,where_ops,where_values))"
   ]
  },
  {
   "cell_type": "code",
   "execution_count": null,
   "metadata": {},
   "outputs": [],
   "source": []
  }
 ],
 "metadata": {
  "kernelspec": {
   "display_name": "Python 3",
   "language": "python",
   "name": "python3"
  },
  "language_info": {
   "codemirror_mode": {
    "name": "ipython",
    "version": 3
   },
   "file_extension": ".py",
   "mimetype": "text/x-python",
   "name": "python",
   "nbconvert_exporter": "python",
   "pygments_lexer": "ipython3",
   "version": "3.6.8"
  }
 },
 "nbformat": 4,
 "nbformat_minor": 2
}
