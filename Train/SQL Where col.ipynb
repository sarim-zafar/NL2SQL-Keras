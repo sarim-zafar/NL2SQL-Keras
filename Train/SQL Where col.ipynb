{
 "cells": [
  {
   "cell_type": "code",
   "execution_count": 1,
   "metadata": {},
   "outputs": [
    {
     "name": "stderr",
     "output_type": "stream",
     "text": [
      "Using TensorFlow backend.\n"
     ]
    }
   ],
   "source": [
    "import pandas as pd\n",
    "import jsonlines\n",
    "from tqdm import tqdm\n",
    "\n",
    "import os\n",
    "os.environ[\"CUDA_DEVICE_ORDER\"] = \"PCI_BUS_ID\"   # see issue #152\n",
    "os.environ[\"CUDA_VISIBLE_DEVICES\"] = \"\"\n",
    "\n",
    "from keras.preprocessing.text import Tokenizer\n",
    "from keras.preprocessing.sequence import pad_sequences\n",
    "import numpy as np\n",
    "import matplotlib.pyplot as plt\n",
    "plt.rcParams['figure.figsize'] = (20.0, 10.0)"
   ]
  },
  {
   "cell_type": "code",
   "execution_count": 2,
   "metadata": {},
   "outputs": [],
   "source": [
    "#Paths\n",
    "train_db_path='WikiSQL/data/train.db'\n",
    "train_data_json_path='WikiSQL/data/train.jsonl'\n",
    "train_table_json_path='WikiSQL/data/train.tables.jsonl'\n",
    "\n",
    "\n",
    "dev_db_path='WikiSQL/data/dev.db'\n",
    "dev_data_json_path='WikiSQL/data/dev.jsonl'\n",
    "dev_table_json_path='WikiSQL/data/dev.tables.jsonl'\n",
    "\n",
    "test_db_path='WikiSQL/data/test.db'\n",
    "test_data_json_path='WikiSQL/data/test.jsonl'\n",
    "test_table_json_path='WikiSQL/data/test.tables.jsonl'"
   ]
  },
  {
   "cell_type": "code",
   "execution_count": 3,
   "metadata": {},
   "outputs": [],
   "source": [
    "def get_col_tokens(table_json_path):\n",
    "    tokens=[]\n",
    "    with jsonlines.open(table_json_path) as reader:\n",
    "        for obj in tqdm(reader):\n",
    "            for header in obj['header']:\n",
    "                tokens.append(header)\n",
    "    return tokens"
   ]
  },
  {
   "cell_type": "code",
   "execution_count": 4,
   "metadata": {},
   "outputs": [],
   "source": [
    "def get_question_tokens(data_json_path):\n",
    "    tokens=[]\n",
    "    with jsonlines.open(data_json_path) as reader:\n",
    "        for obj in tqdm(reader):\n",
    "            tokens.append(obj['question'])\n",
    "    return tokens"
   ]
  },
  {
   "cell_type": "code",
   "execution_count": 5,
   "metadata": {},
   "outputs": [
    {
     "name": "stderr",
     "output_type": "stream",
     "text": [
      "18585it [00:00, 32881.76it/s]\n",
      "2716it [00:00, 30292.56it/s]\n",
      "5230it [00:00, 30944.01it/s]\n"
     ]
    }
   ],
   "source": [
    "texts=[]\n",
    "texts.extend(get_col_tokens(train_table_json_path))\n",
    "texts.extend(get_col_tokens(dev_table_json_path))\n",
    "texts.extend(get_col_tokens(test_table_json_path))"
   ]
  },
  {
   "cell_type": "code",
   "execution_count": 6,
   "metadata": {},
   "outputs": [
    {
     "name": "stderr",
     "output_type": "stream",
     "text": [
      "56355it [00:00, 147345.39it/s]\n",
      "8421it [00:00, 128282.81it/s]\n",
      "15878it [00:00, 120054.15it/s]\n"
     ]
    }
   ],
   "source": [
    "texts.extend(get_question_tokens(train_data_json_path))\n",
    "texts.extend(get_question_tokens(dev_data_json_path))\n",
    "texts.extend(get_question_tokens(test_data_json_path))"
   ]
  },
  {
   "cell_type": "code",
   "execution_count": 7,
   "metadata": {},
   "outputs": [],
   "source": [
    "tokenizer=Tokenizer(char_level=True,lower=True)\n",
    "tokenizer.fit_on_texts(texts)"
   ]
  },
  {
   "cell_type": "code",
   "execution_count": 8,
   "metadata": {},
   "outputs": [
    {
     "data": {
      "text/plain": [
       "1246"
      ]
     },
     "execution_count": 8,
     "metadata": {},
     "output_type": "execute_result"
    }
   ],
   "source": [
    "max_token_index=len(tokenizer.index_word.keys())+1\n",
    "max_token_index"
   ]
  },
  {
   "cell_type": "code",
   "execution_count": 9,
   "metadata": {},
   "outputs": [],
   "source": [
    "def text2seq(text):\n",
    "    return np.ravel([tokenizer.texts_to_sequences([text])])"
   ]
  },
  {
   "cell_type": "code",
   "execution_count": 10,
   "metadata": {},
   "outputs": [
    {
     "data": {
      "text/plain": [
       "419"
      ]
     },
     "execution_count": 10,
     "metadata": {},
     "output_type": "execute_result"
    }
   ],
   "source": [
    "max_len=0\n",
    "for text in texts:\n",
    "    if len(text2seq(text))>max_len:\n",
    "        max_len=len(text2seq(text))\n",
    "max_len"
   ]
  },
  {
   "cell_type": "code",
   "execution_count": 11,
   "metadata": {},
   "outputs": [],
   "source": [
    "def text2seq(text):\n",
    "    return np.ravel(pad_sequences(tokenizer.texts_to_sequences([text]),maxlen=max_len,padding='post'))"
   ]
  },
  {
   "cell_type": "code",
   "execution_count": 12,
   "metadata": {},
   "outputs": [
    {
     "data": {
      "image/png": "[encoded data removed]",
      "text/plain": [
       "<Figure size 432x288 with 1 Axes>"
      ]
     },
     "metadata": {
      "needs_background": "light"
     },
     "output_type": "display_data"
    }
   ],
   "source": [
    "df = pd.Series(texts)\n",
    "df.str.len().hist(bins=100)\n",
    "plt.show()"
   ]
  },
  {
   "cell_type": "code",
   "execution_count": 13,
   "metadata": {},
   "outputs": [],
   "source": [
    "del texts"
   ]
  },
  {
   "cell_type": "code",
   "execution_count": 14,
   "metadata": {},
   "outputs": [],
   "source": [
    "#make a dict to keep track of all the columns of all the tables\n",
    "def get_table(table_json_path):\n",
    "    tables={}\n",
    "    with jsonlines.open(table_json_path) as reader:\n",
    "        for obj in tqdm(reader):\n",
    "            tables[obj['id']]={'headers':[],'types':[]}\n",
    "            tables[obj['id']]['headers']=obj['header']\n",
    "            tables[obj['id']]['types']=obj['types']\n",
    "    return tables"
   ]
  },
  {
   "cell_type": "code",
   "execution_count": 15,
   "metadata": {},
   "outputs": [
    {
     "name": "stderr",
     "output_type": "stream",
     "text": [
      "18585it [00:00, 33743.93it/s]\n",
      "2716it [00:00, 37328.15it/s]\n",
      "5230it [00:00, 37387.04it/s]\n"
     ]
    }
   ],
   "source": [
    "train_tables=get_table(train_table_json_path)\n",
    "dev_tables=get_table(dev_table_json_path)\n",
    "test_tables=get_table(test_table_json_path)"
   ]
  },
  {
   "cell_type": "code",
   "execution_count": 16,
   "metadata": {},
   "outputs": [],
   "source": [
    "def get_select_col(dict_obj,tables):\n",
    "    temp=tables[dict_obj['table_id']]['headers']\n",
    "    true_selected_columns = []\n",
    "    for cond in dict_obj['sql']['conds']:\n",
    "        true_selected_columns.append(temp[cond[0]])\n",
    "    false_selected_columns = []\n",
    "    for selected_column in temp:\n",
    "        if selected_column not in true_selected_columns:\n",
    "            false_selected_columns.append(selected_column)\n",
    "    return true_selected_columns,false_selected_columns\n",
    "    "
   ]
  },
  {
   "cell_type": "code",
   "execution_count": 17,
   "metadata": {},
   "outputs": [],
   "source": [
    "def get_dataset(data_json_path,table):\n",
    "    #read the jsonl file\n",
    "    Q=[]\n",
    "    C=[]\n",
    "    y=[]\n",
    "    global tokenizer\n",
    "    with jsonlines.open(data_json_path) as reader:\n",
    "        for obj in tqdm(reader):\n",
    "            question=obj['question']\n",
    "            \n",
    "    \n",
    "            #tokenized representation\n",
    "            question=text2seq(question)\n",
    "            true_columns,false_columns=get_select_col(obj,table)\n",
    "            for i in range(len(true_columns)):\n",
    "                true_columns[i]=text2seq(true_columns[i])\n",
    "\n",
    "            for i in range(len(false_columns)):\n",
    "                false_columns[i]=text2seq(false_columns[i])\n",
    "                \n",
    "            for true_column in true_columns:\n",
    "                Q.append(question)\n",
    "                C.append(true_column)\n",
    "                y.append(1)\n",
    "            for false_column in false_columns:\n",
    "                Q.append(question)\n",
    "                C.append(false_column)\n",
    "                y.append(0)\n",
    "            \n",
    "    return Q,C,y"
   ]
  },
  {
   "cell_type": "code",
   "execution_count": 18,
   "metadata": {},
   "outputs": [
    {
     "name": "stderr",
     "output_type": "stream",
     "text": [
      "56355it [00:13, 4248.87it/s]\n"
     ]
    }
   ],
   "source": [
    "Q_train,C_train,y_train=get_dataset(train_data_json_path,train_tables)"
   ]
  },
  {
   "cell_type": "code",
   "execution_count": 19,
   "metadata": {},
   "outputs": [
    {
     "name": "stderr",
     "output_type": "stream",
     "text": [
      "8421it [00:02, 4121.45it/s]\n"
     ]
    }
   ],
   "source": [
    "Q_dev,C_dev,y_dev=get_dataset(dev_data_json_path,dev_tables)"
   ]
  },
  {
   "cell_type": "code",
   "execution_count": 20,
   "metadata": {},
   "outputs": [
    {
     "data": {
      "text/plain": [
       "array([[<matplotlib.axes._subplots.AxesSubplot object at 0xb2d95d828>]],\n",
       "      dtype=object)"
      ]
     },
     "execution_count": 20,
     "metadata": {},
     "output_type": "execute_result"
    },
    {
     "data": {
      "image/png": "[encoded data removed]",
      "text/plain": [
       "<Figure size 432x288 with 1 Axes>"
      ]
     },
     "metadata": {
      "needs_background": "light"
     },
     "output_type": "display_data"
    }
   ],
   "source": [
    "pd.DataFrame(y_train).hist()"
   ]
  },
  {
   "cell_type": "code",
   "execution_count": 27,
   "metadata": {},
   "outputs": [
    {
     "name": "stdout",
     "output_type": "stream",
     "text": [
      "76729 141858\n"
     ]
    }
   ],
   "source": [
    "pos=0\n",
    "neg=0\n",
    "for i in range(len(y_train)):\n",
    "    if y_train[i]==0:\n",
    "        neg+=1\n",
    "    else:\n",
    "        pos+=1\n",
    "        \n",
    "print(pos,neg)"
   ]
  },
  {
   "cell_type": "code",
   "execution_count": 28,
   "metadata": {},
   "outputs": [
    {
     "name": "stdout",
     "output_type": "stream",
     "text": [
      "11545 41861\n"
     ]
    }
   ],
   "source": [
    "pos=0\n",
    "neg=0\n",
    "for i in range(len(y_dev)):\n",
    "    if y_dev[i]==0:\n",
    "        neg+=1\n",
    "    else:\n",
    "        pos+=1\n",
    "        \n",
    "print(pos,neg)"
   ]
  },
  {
   "cell_type": "code",
   "execution_count": 23,
   "metadata": {},
   "outputs": [
    {
     "data": {
      "text/plain": [
       "0.7838257873647155"
      ]
     },
     "execution_count": 23,
     "metadata": {},
     "output_type": "execute_result"
    }
   ],
   "source": [
    "neg/(pos+neg)"
   ]
  },
  {
   "cell_type": "code",
   "execution_count": 24,
   "metadata": {},
   "outputs": [],
   "source": [
    "idx=[]\n",
    "for i in range(len(y_train)):\n",
    "    if y_train[i]==0:\n",
    "        #coin toss with 50% prob.\n",
    "        if np.random.randint(2):\n",
    "            idx.append(i)\n",
    "idx.sort(reverse=True)\n",
    "for i in idx:\n",
    "    Q_train.pop(i)\n",
    "    C_train.pop(i)\n",
    "    y_train.pop(i)"
   ]
  },
  {
   "cell_type": "code",
   "execution_count": 29,
   "metadata": {},
   "outputs": [],
   "source": [
    "#dimension\n",
    "d=64\n",
    "from keras.models import Model\n",
    "from keras.layers import Input, GRU, Dense ,Flatten , Concatenate,Bidirectional,Lambda,BatchNormalization\n",
    "from keras.layers.embeddings import Embedding\n",
    "from keras.constraints import max_norm\n",
    "from keras import regularizers"
   ]
  },
  {
   "cell_type": "code",
   "execution_count": 30,
   "metadata": {},
   "outputs": [],
   "source": [
    "from keras import backend as K\n",
    "def euclidean_distance(vects):\n",
    "    x, y = vects\n",
    "    sum_square = K.sum(K.square(x - y), axis=1, keepdims=True)\n",
    "    return K.sqrt(K.maximum(sum_square, K.epsilon()))\n",
    "\n",
    "\n",
    "def eucl_dist_output_shape(shapes):\n",
    "    shape1, shape2 = shapes\n",
    "    return (shape1[0], 1)\n",
    "\n",
    "\n",
    "def contrastive_loss(y_true, y_pred):\n",
    "    '''Contrastive loss from Hadsell-et-al.'06\n",
    "    http://yann.lecun.com/exdb/publis/pdf/hadsell-chopra-lecun-06.pdf\n",
    "    '''\n",
    "    margin = 1\n",
    "    sqaure_pred = K.square(y_pred)\n",
    "    margin_square = K.square(K.maximum(margin - y_pred, 0))\n",
    "    return K.mean(y_true * sqaure_pred + (1 - y_true) * margin_square)\n",
    "\n",
    "def compute_accuracy(y_true, y_pred):\n",
    "    '''Compute classification accuracy with a fixed threshold on distances.\n",
    "    '''\n",
    "    pred = y_pred.ravel() < 0.5\n",
    "    return np.mean(pred == y_true)\n",
    "\n",
    "\n",
    "def accuracy(y_true, y_pred):\n",
    "    '''Compute classification accuracy with a fixed threshold on distances.\n",
    "    '''\n",
    "    return K.mean(K.equal(y_true, K.cast(y_pred < 0.5, y_true.dtype)))"
   ]
  },
  {
   "cell_type": "code",
   "execution_count": 31,
   "metadata": {},
   "outputs": [
    {
     "name": "stdout",
     "output_type": "stream",
     "text": [
      "__________________________________________________________________________________________________\n",
      "Layer (type)                    Output Shape         Param #     Connected to                     \n",
      "==================================================================================================\n",
      "Q_input (InputLayer)            (None, 419)          0                                            \n",
      "__________________________________________________________________________________________________\n",
      "C_input (InputLayer)            (None, 419)          0                                            \n",
      "__________________________________________________________________________________________________\n",
      "embedding (Embedding)           (None, 419, 64)      79744       Q_input[0][0]                    \n",
      "                                                                 C_input[0][0]                    \n",
      "__________________________________________________________________________________________________\n",
      "batch_normalization_1 (BatchNor (None, 419, 64)      256         embedding[0][0]                  \n",
      "__________________________________________________________________________________________________\n",
      "batch_normalization_2 (BatchNor (None, 419, 64)      256         embedding[1][0]                  \n",
      "__________________________________________________________________________________________________\n",
      "bidirectional_1 (Bidirectional) [(None, 128), (None, 49536       batch_normalization_1[0][0]      \n",
      "__________________________________________________________________________________________________\n",
      "bidirectional_2 (Bidirectional) [(None, 128), (None, 49536       batch_normalization_2[0][0]      \n",
      "__________________________________________________________________________________________________\n",
      "concatenate_1 (Concatenate)     (None, 128)          0           bidirectional_1[0][1]            \n",
      "                                                                 bidirectional_1[0][2]            \n",
      "__________________________________________________________________________________________________\n",
      "concatenate_2 (Concatenate)     (None, 128)          0           bidirectional_2[0][1]            \n",
      "                                                                 bidirectional_2[0][2]            \n",
      "__________________________________________________________________________________________________\n",
      "lambda_1 (Lambda)               (None, 1)            0           concatenate_1[0][0]              \n",
      "                                                                 concatenate_2[0][0]              \n",
      "==================================================================================================\n",
      "Total params: 179,328\n",
      "Trainable params: 179,072\n",
      "Non-trainable params: 256\n",
      "__________________________________________________________________________________________________\n"
     ]
    }
   ],
   "source": [
    "# Define an input sequence and process it.\n",
    "question_input = Input(shape=(max_len,),name='Q_input')\n",
    "column_input = Input(shape=(max_len,),name='C_input')\n",
    "\n",
    "embedding= Embedding(max_token_index, d, input_length=max_len,name='embedding',mask_zero=True)\n",
    "# embedding_C= Embedding(max_token_index, d, input_length=max_len,name='embedding_C')\n",
    "#                      embeddings_constraint=max_norm(2.),\n",
    "#                      embeddings_regularizer=regularizers.l1_l2(l1=0.001, l2=0.001))\n",
    "\n",
    "Q_embedding= embedding(question_input)\n",
    "C_embedding= embedding(column_input)\n",
    "\n",
    "\n",
    "q_bn=BatchNormalization()(Q_embedding)\n",
    "c_bn=BatchNormalization()(C_embedding)\n",
    "\n",
    "\n",
    "encoder_question = Bidirectional(GRU(d, return_state=True))\n",
    "_ , Q_state_h1, Q_state_h2 = encoder_question(q_bn)\n",
    "\n",
    "encoder_column = Bidirectional(GRU(d, return_state=True))\n",
    "_ , C_state_h1, C_state_h2 = encoder_column(c_bn)\n",
    "\n",
    "\n",
    "con_Q=Concatenate()([Q_state_h1,Q_state_h2])\n",
    "con_C=Concatenate()([C_state_h1,C_state_h2])\n",
    "\n",
    "final = Lambda(euclidean_distance,\n",
    "                  output_shape=eucl_dist_output_shape)([con_Q, con_C])\n",
    "# final=Dense(1,activation='sigmoid')(con)\n",
    "\n",
    "model = Model([question_input, column_input], final)\n",
    "model.summary()"
   ]
  },
  {
   "cell_type": "code",
   "execution_count": 32,
   "metadata": {},
   "outputs": [],
   "source": [
    "from keras import optimizers\n",
    "#opt = optimizers.SGD(lr=0.1)\n",
    "opt = optimizers.Adam()"
   ]
  },
  {
   "cell_type": "code",
   "execution_count": 160,
   "metadata": {},
   "outputs": [],
   "source": [
    "import keras_contrib\n",
    "#opt=keras_contrib.optimizers.padam.Padam()"
   ]
  },
  {
   "cell_type": "code",
   "execution_count": 33,
   "metadata": {},
   "outputs": [],
   "source": [
    "# Run training\n",
    "model.compile(optimizer=opt, loss=contrastive_loss,metrics=[accuracy])"
   ]
  },
  {
   "cell_type": "code",
   "execution_count": 34,
   "metadata": {},
   "outputs": [],
   "source": [
    "batch_size = 128  # Batch size for training.\n",
    "epochs = 100  # Number of epochs to train for."
   ]
  },
  {
   "cell_type": "code",
   "execution_count": 35,
   "metadata": {},
   "outputs": [],
   "source": [
    "from keras.callbacks import EarlyStopping, ModelCheckpoint\n",
    "# Set callback functions to early stop training and save the best model so far\n",
    "callbacks = [EarlyStopping(monitor='val_loss', patience=10),\n",
    "             ModelCheckpoint(filepath='where_col_best.h5', monitor='val_loss', save_best_only=True)]"
   ]
  },
  {
   "cell_type": "code",
   "execution_count": 36,
   "metadata": {},
   "outputs": [
    {
     "data": {
      "text/plain": [
       "array([0.77044298, 1.42440928])"
      ]
     },
     "execution_count": 36,
     "metadata": {},
     "output_type": "execute_result"
    }
   ],
   "source": [
    "from sklearn.utils import compute_class_weight\n",
    "class_weight=compute_class_weight('balanced', np.unique(y_train), y_train)\n",
    "class_weight"
   ]
  },
  {
   "cell_type": "code",
   "execution_count": null,
   "metadata": {
    "scrolled": true
   },
   "outputs": [
    {
     "name": "stdout",
     "output_type": "stream",
     "text": [
      "Train on 218587 samples, validate on 53406 samples\n",
      "Epoch 1/100\n",
      "   896/218587 [..............................] - ETA: 1:06:17 - loss: 7.0652 - accuracy: 0.6607"
     ]
    }
   ],
   "source": [
    "history=model.fit([Q_train,C_train], y_train,batch_size=batch_size, epochs=epochs, verbose=1,\n",
    "                callbacks=callbacks, validation_data=([Q_dev,C_dev],y_dev))"
   ]
  },
  {
   "cell_type": "code",
   "execution_count": 72,
   "metadata": {},
   "outputs": [],
   "source": [
    "model.load_weights('where_col_best_model.h5')"
   ]
  },
  {
   "cell_type": "code",
   "execution_count": 73,
   "metadata": {},
   "outputs": [
    {
     "name": "stderr",
     "output_type": "stream",
     "text": [
      "15878it [00:03, 4493.91it/s]\n"
     ]
    }
   ],
   "source": [
    "Q_test,C_test,y_test=get_dataset(test_data_json_path,test_tables)"
   ]
  },
  {
   "cell_type": "code",
   "execution_count": 74,
   "metadata": {},
   "outputs": [
    {
     "name": "stdout",
     "output_type": "stream",
     "text": [
      "147719/147719 [==============================] - 406s 3ms/step\n"
     ]
    },
    {
     "data": {
      "text/plain": [
       "[0.1512684871230356, 0.8032074411555697]"
      ]
     },
     "execution_count": 74,
     "metadata": {},
     "output_type": "execute_result"
    }
   ],
   "source": [
    "model.evaluate([Q_train,C_train],y_train,verbose=1)"
   ]
  },
  {
   "cell_type": "code",
   "execution_count": 75,
   "metadata": {},
   "outputs": [
    {
     "name": "stdout",
     "output_type": "stream",
     "text": [
      "101072/101072 [==============================] - 277s 3ms/step\n"
     ]
    },
    {
     "data": {
      "text/plain": [
       "[0.14578870132899283, 0.7929990501820484]"
      ]
     },
     "execution_count": 75,
     "metadata": {},
     "output_type": "execute_result"
    }
   ],
   "source": [
    "#new\n",
    "model.evaluate([Q_test,C_test],y_test,verbose=1)"
   ]
  },
  {
   "cell_type": "code",
   "execution_count": 76,
   "metadata": {},
   "outputs": [
    {
     "name": "stdout",
     "output_type": "stream",
     "text": [
      "53406/53406 [==============================] - 147s 3ms/step\n"
     ]
    },
    {
     "data": {
      "text/plain": [
       "[0.14270534951718197, 0.80064037749014]"
      ]
     },
     "execution_count": 76,
     "metadata": {},
     "output_type": "execute_result"
    }
   ],
   "source": [
    "model.evaluate([Q_dev,C_dev],y_dev,verbose=1)"
   ]
  },
  {
   "cell_type": "code",
   "execution_count": 77,
   "metadata": {},
   "outputs": [
    {
     "data": {
      "image/png": "[encoded data removed]",
      "text/plain": [
       "<Figure size 1440x720 with 1 Axes>"
      ]
     },
     "metadata": {
      "needs_background": "light"
     },
     "output_type": "display_data"
    }
   ],
   "source": [
    "\n",
    "# Get training and test loss histories\n",
    "training_loss = history.history['loss']\n",
    "test_loss = history.history['val_loss']\n",
    "\n",
    "# Create count of the number of epochs\n",
    "epoch_count = range(1, len(training_loss) + 1)\n",
    "plt.figure(figsize=(20,10))\n",
    "# Visualize loss history\n",
    "plt.plot(epoch_count, training_loss, 'r--')\n",
    "plt.plot(epoch_count, test_loss, 'b-')\n",
    "plt.legend(['Training Loss', 'Test Loss'])\n",
    "plt.xlabel('Epoch')\n",
    "plt.ylabel('Loss')\n",
    "plt.show();"
   ]
  },
  {
   "cell_type": "code",
   "execution_count": null,
   "metadata": {},
   "outputs": [],
   "source": []
  }
 ],
 "metadata": {
  "kernelspec": {
   "display_name": "Python 3",
   "language": "python",
   "name": "python3"
  },
  "language_info": {
   "codemirror_mode": {
    "name": "ipython",
    "version": 3
   },
   "file_extension": ".py",
   "mimetype": "text/x-python",
   "name": "python",
   "nbconvert_exporter": "python",
   "pygments_lexer": "ipython3",
   "version": "3.6.8"
  }
 },
 "nbformat": 4,
 "nbformat_minor": 2
}
