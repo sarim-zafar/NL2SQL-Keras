{
 "cells": [
  {
   "cell_type": "code",
   "execution_count": 1,
   "metadata": {},
   "outputs": [
    {
     "name": "stderr",
     "output_type": "stream",
     "text": [
      "Using TensorFlow backend.\n"
     ]
    }
   ],
   "source": [
    "import pandas as pd\n",
    "import jsonlines\n",
    "from tqdm import tqdm\n",
    "import os\n",
    "os.environ[\"CUDA_DEVICE_ORDER\"] = \"PCI_BUS_ID\"   # see issue #152\n",
    "os.environ[\"CUDA_VISIBLE_DEVICES\"] = \"\"\n",
    "\n",
    "from keras.preprocessing.text import Tokenizer\n",
    "from keras.preprocessing.sequence import pad_sequences\n",
    "import numpy as np\n",
    "import matplotlib.pyplot as plt\n",
    "plt.rcParams['figure.figsize'] = (20.0, 10.0)"
   ]
  },
  {
   "cell_type": "code",
   "execution_count": 2,
   "metadata": {},
   "outputs": [],
   "source": [
    "#cond_ops = ['=', '>', '<', 'OP']\n",
    "cond_ops = [[1,0,0], [0,1,0], [0,0,1], 'OP']"
   ]
  },
  {
   "cell_type": "code",
   "execution_count": 3,
   "metadata": {},
   "outputs": [],
   "source": [
    "#Paths\n",
    "train_db_path='WikiSQL/data/train.db'\n",
    "train_data_json_path='WikiSQL/data/train.jsonl'\n",
    "train_table_json_path='WikiSQL/data/train.tables.jsonl'\n",
    "\n",
    "\n",
    "dev_db_path='WikiSQL/data/dev.db'\n",
    "dev_data_json_path='WikiSQL/data/dev.jsonl'\n",
    "dev_table_json_path='WikiSQL/data/dev.tables.jsonl'\n",
    "\n",
    "test_db_path='WikiSQL/data/test.db'\n",
    "test_data_json_path='WikiSQL/data/test.jsonl'\n",
    "test_table_json_path='WikiSQL/data/test.tables.jsonl'"
   ]
  },
  {
   "cell_type": "code",
   "execution_count": 4,
   "metadata": {},
   "outputs": [],
   "source": [
    "def get_col_tokens(table_json_path):\n",
    "    tokens=[]\n",
    "    with jsonlines.open(table_json_path) as reader:\n",
    "        for obj in tqdm(reader):\n",
    "            for header in obj['header']:\n",
    "                tokens.append(header)\n",
    "    return tokens"
   ]
  },
  {
   "cell_type": "code",
   "execution_count": 5,
   "metadata": {},
   "outputs": [],
   "source": [
    "def get_question_tokens(data_json_path):\n",
    "    tokens=[]\n",
    "    with jsonlines.open(data_json_path) as reader:\n",
    "        for obj in tqdm(reader):\n",
    "            tokens.append(obj['question'])\n",
    "    return tokens"
   ]
  },
  {
   "cell_type": "code",
   "execution_count": 6,
   "metadata": {},
   "outputs": [
    {
     "name": "stderr",
     "output_type": "stream",
     "text": [
      "18585it [00:00, 34110.12it/s]\n",
      "2716it [00:00, 37802.57it/s]\n",
      "5230it [00:00, 36549.69it/s]\n"
     ]
    }
   ],
   "source": [
    "texts=[]\n",
    "texts.extend(get_col_tokens(train_table_json_path))\n",
    "texts.extend(get_col_tokens(dev_table_json_path))\n",
    "texts.extend(get_col_tokens(test_table_json_path))"
   ]
  },
  {
   "cell_type": "code",
   "execution_count": 7,
   "metadata": {},
   "outputs": [
    {
     "name": "stderr",
     "output_type": "stream",
     "text": [
      "56355it [00:00, 159043.95it/s]\n",
      "8421it [00:00, 121458.85it/s]\n",
      "15878it [00:00, 154876.03it/s]\n"
     ]
    }
   ],
   "source": [
    "texts.extend(get_question_tokens(train_data_json_path))\n",
    "texts.extend(get_question_tokens(dev_data_json_path))\n",
    "texts.extend(get_question_tokens(test_data_json_path))"
   ]
  },
  {
   "cell_type": "code",
   "execution_count": 8,
   "metadata": {},
   "outputs": [],
   "source": [
    "tokenizer=Tokenizer(char_level=True,lower=True)\n",
    "tokenizer.fit_on_texts(texts)"
   ]
  },
  {
   "cell_type": "code",
   "execution_count": 9,
   "metadata": {},
   "outputs": [
    {
     "data": {
      "text/plain": [
       "1246"
      ]
     },
     "execution_count": 9,
     "metadata": {},
     "output_type": "execute_result"
    }
   ],
   "source": [
    "max_token_index=len(tokenizer.index_word.keys())+1\n",
    "max_token_index"
   ]
  },
  {
   "cell_type": "code",
   "execution_count": 10,
   "metadata": {},
   "outputs": [],
   "source": [
    "def text2seq(text):\n",
    "    return np.ravel([tokenizer.texts_to_sequences([text])])"
   ]
  },
  {
   "cell_type": "code",
   "execution_count": 11,
   "metadata": {},
   "outputs": [
    {
     "data": {
      "text/plain": [
       "419"
      ]
     },
     "execution_count": 11,
     "metadata": {},
     "output_type": "execute_result"
    }
   ],
   "source": [
    "max_len=0\n",
    "for text in texts:\n",
    "    if len(text2seq(text))>max_len:\n",
    "        max_len=len(text2seq(text))\n",
    "max_len"
   ]
  },
  {
   "cell_type": "code",
   "execution_count": 12,
   "metadata": {},
   "outputs": [],
   "source": [
    "def text2seq(text):\n",
    "    return np.ravel(pad_sequences(tokenizer.texts_to_sequences([text]),maxlen=max_len,padding='post'))"
   ]
  },
  {
   "cell_type": "code",
   "execution_count": 13,
   "metadata": {},
   "outputs": [
    {
     "data": {
      "image/png": "[encoded data removed]",
      "text/plain": [
       "<Figure size 432x288 with 1 Axes>"
      ]
     },
     "metadata": {
      "needs_background": "light"
     },
     "output_type": "display_data"
    }
   ],
   "source": [
    "df = pd.Series(texts)\n",
    "df.str.len().hist(bins=200)\n",
    "plt.show()"
   ]
  },
  {
   "cell_type": "code",
   "execution_count": 14,
   "metadata": {},
   "outputs": [],
   "source": [
    "del texts"
   ]
  },
  {
   "cell_type": "code",
   "execution_count": 15,
   "metadata": {},
   "outputs": [],
   "source": [
    "#make a dict to keep track of all the columns of all the tables\n",
    "def get_table(table_json_path):\n",
    "    tables={}\n",
    "    with jsonlines.open(table_json_path) as reader:\n",
    "        for obj in tqdm(reader):\n",
    "            tables[obj['id']]={'headers':[],'types':[]}\n",
    "            tables[obj['id']]['headers']=obj['header']\n",
    "            tables[obj['id']]['types']=obj['types']\n",
    "    return tables"
   ]
  },
  {
   "cell_type": "code",
   "execution_count": 16,
   "metadata": {},
   "outputs": [
    {
     "name": "stderr",
     "output_type": "stream",
     "text": [
      "18585it [00:00, 33975.44it/s]\n",
      "2716it [00:00, 37165.81it/s]\n",
      "5230it [00:00, 36938.66it/s]\n"
     ]
    }
   ],
   "source": [
    "train_tables=get_table(train_table_json_path)\n",
    "dev_tables=get_table(dev_table_json_path)\n",
    "test_tables=get_table(test_table_json_path)"
   ]
  },
  {
   "cell_type": "code",
   "execution_count": 17,
   "metadata": {},
   "outputs": [],
   "source": [
    "def get_where_cols_value(dict_obj,tables):\n",
    "    temp=tables[dict_obj['table_id']]['headers']\n",
    "    where_cols = []\n",
    "    values=[]\n",
    "    ops=[]\n",
    "    for cond in dict_obj['sql']['conds']:\n",
    "        where_cols.append(temp[cond[0]])\n",
    "        value=str(cond[2]).lower()\n",
    "        start=dict_obj['question'].lower().find(value)\n",
    "        end=start+len(value)\n",
    "        values.append((start,end))\n",
    "        ops.append(cond_ops[cond[1]])\n",
    "    return where_cols,values,ops\n",
    "    "
   ]
  },
  {
   "cell_type": "code",
   "execution_count": 18,
   "metadata": {},
   "outputs": [],
   "source": [
    "def get_dataset(data_json_path,table):\n",
    "    #read the jsonl file\n",
    "    X=[]\n",
    "    y=[]\n",
    "    global tokenizer\n",
    "    with jsonlines.open(data_json_path) as reader:\n",
    "        for obj in tqdm(reader):\n",
    "            where_cols,values,ops=get_where_cols_value(obj,table)\n",
    "            question=obj['question']\n",
    "            \n",
    "    \n",
    "            #tokenized representation\n",
    "            question=text2seq(question)\n",
    "            for i in range(len(where_cols)):\n",
    "                \n",
    "                X.append([question,text2seq(where_cols[i]),ops[i]])\n",
    "                y.append(values[i])\n",
    "            \n",
    "    return X,y"
   ]
  },
  {
   "cell_type": "code",
   "execution_count": 19,
   "metadata": {},
   "outputs": [
    {
     "name": "stderr",
     "output_type": "stream",
     "text": [
      "56355it [00:05, 10066.10it/s]\n"
     ]
    }
   ],
   "source": [
    "X_train,y_train=get_dataset(train_data_json_path,train_tables)"
   ]
  },
  {
   "cell_type": "code",
   "execution_count": 20,
   "metadata": {},
   "outputs": [
    {
     "name": "stderr",
     "output_type": "stream",
     "text": [
      "8421it [00:00, 8534.67it/s]\n"
     ]
    }
   ],
   "source": [
    "X_dev,y_dev=get_dataset(dev_data_json_path,dev_tables)"
   ]
  },
  {
   "cell_type": "code",
   "execution_count": 21,
   "metadata": {},
   "outputs": [],
   "source": [
    "#dimension\n",
    "d=64\n",
    "from keras.models import Model\n",
    "from keras.layers import Input, GRU, Dense ,Flatten , Concatenate,Bidirectional,Average,RepeatVector,Flatten\n",
    "from keras.layers.embeddings import Embedding\n",
    "from keras.constraints import max_norm\n",
    "from keras import regularizers"
   ]
  },
  {
   "cell_type": "code",
   "execution_count": 23,
   "metadata": {},
   "outputs": [
    {
     "name": "stdout",
     "output_type": "stream",
     "text": [
      "__________________________________________________________________________________________________\n",
      "Layer (type)                    Output Shape         Param #     Connected to                     \n",
      "==================================================================================================\n",
      "Q_input (InputLayer)            (None, 419)          0                                            \n",
      "__________________________________________________________________________________________________\n",
      "C_input (InputLayer)            (None, 419)          0                                            \n",
      "__________________________________________________________________________________________________\n",
      "embedding (Embedding)           (None, 419, 64)      79744       Q_input[0][0]                    \n",
      "                                                                 C_input[0][0]                    \n",
      "__________________________________________________________________________________________________\n",
      "bidirectional_3 (Bidirectional) [(None, 128), (None, 49536       embedding[0][0]                  \n",
      "__________________________________________________________________________________________________\n",
      "bidirectional_4 (Bidirectional) [(None, 128), (None, 49536       embedding[1][0]                  \n",
      "__________________________________________________________________________________________________\n",
      "Ops_input (InputLayer)          (None, 3)            0                                            \n",
      "__________________________________________________________________________________________________\n",
      "concatenate_3 (Concatenate)     (None, 515)          0           bidirectional_3[0][0]            \n",
      "                                                                 bidirectional_3[0][1]            \n",
      "                                                                 bidirectional_3[0][2]            \n",
      "                                                                 bidirectional_4[0][0]            \n",
      "                                                                 bidirectional_4[0][1]            \n",
      "                                                                 bidirectional_4[0][2]            \n",
      "                                                                 Ops_input[0][0]                  \n",
      "__________________________________________________________________________________________________\n",
      "start (Dense)                   (None, 419)          216204      concatenate_3[0][0]              \n",
      "__________________________________________________________________________________________________\n",
      "concatenate_4 (Concatenate)     (None, 934)          0           concatenate_3[0][0]              \n",
      "                                                                 start[0][0]                      \n",
      "__________________________________________________________________________________________________\n",
      "end (Dense)                     (None, 419)          391765      concatenate_4[0][0]              \n",
      "==================================================================================================\n",
      "Total params: 786,785\n",
      "Trainable params: 786,785\n",
      "Non-trainable params: 0\n",
      "__________________________________________________________________________________________________\n"
     ]
    }
   ],
   "source": [
    "# Define an input sequence and process it.\n",
    "question_input = Input(shape=(max_len,),name='Q_input')\n",
    "column_input = Input(shape=(max_len,),name='C_input')\n",
    "ops_input = Input(shape=(3,),name='Ops_input')\n",
    "\n",
    "embedding= Embedding(max_token_index, d, input_length=max_len,name='embedding')\n",
    "# embedding_C= Embedding(max_token_index, d, input_length=max_len,name='embedding_C')\n",
    "#                      embeddings_constraint=max_norm(2.),\n",
    "#                      embeddings_regularizer=regularizers.l1_l2(l1=0.001, l2=0.001))\n",
    "\n",
    "Q_embedding= embedding(question_input)\n",
    "C_embedding= embedding(column_input)\n",
    "\n",
    "\n",
    "\n",
    "encoder_question = Bidirectional(GRU(d, return_state=True))\n",
    "Q_act , Q_state_h1, Q_state_h2 = encoder_question(Q_embedding)\n",
    "\n",
    "encoder_column = Bidirectional(GRU(d, return_state=True))\n",
    "C_act , C_state_h1, C_state_h2 = encoder_column(C_embedding)\n",
    "\n",
    "\n",
    "con=Concatenate()([Q_act,Q_state_h1,Q_state_h2,C_act,C_state_h1,C_state_h2,ops_input])\n",
    "\n",
    "\n",
    "start=Dense(max_len,activation='softmax',name='start')(con)\n",
    "\n",
    "con_2=Concatenate()([con,start])\n",
    "\n",
    "end=Dense(max_len,activation='softmax',name='end')(con_2)\n",
    "\n",
    "model = Model([question_input, column_input,ops_input], [start,end])\n",
    "model.summary()"
   ]
  },
  {
   "cell_type": "code",
   "execution_count": 24,
   "metadata": {},
   "outputs": [],
   "source": [
    "#from sklearn.externals import joblib\n",
    "\n",
    "#wb=joblib.load('embedding select col.joblib')\n",
    "#model.layers[2].set_weights(wb)\n",
    "#model.layers[2].trainable = False"
   ]
  },
  {
   "cell_type": "code",
   "execution_count": 25,
   "metadata": {},
   "outputs": [],
   "source": [
    "import keras_contrib\n",
    "\n",
    "from keras import optimizers\n",
    "\n",
    "opt = optimizers.Adam(lr=0.0001)"
   ]
  },
  {
   "cell_type": "code",
   "execution_count": 26,
   "metadata": {},
   "outputs": [],
   "source": [
    "opt=keras_contrib.optimizers.padam.Padam()"
   ]
  },
  {
   "cell_type": "code",
   "execution_count": 27,
   "metadata": {},
   "outputs": [],
   "source": [
    "# Run training\n",
    "model.compile(optimizer=opt, loss='categorical_crossentropy',metrics=['accuracy'])"
   ]
  },
  {
   "cell_type": "code",
   "execution_count": 28,
   "metadata": {},
   "outputs": [],
   "source": [
    "def generator(X,y,batch_size=32):\n",
    "    indices=range(len(X))\n",
    "    while True:\n",
    "        # Select files (paths/indices) for the batch\n",
    "        batch_indices= np.random.choice(a = indices,size = batch_size)\n",
    "        X_Q_batch=[]\n",
    "        X_C_batch=[]\n",
    "        X_O_batch=[]\n",
    "        y_start_batch=[]\n",
    "        y_end_batch=[]\n",
    "        \n",
    "        for index in batch_indices:\n",
    "            X_Q_batch.append(X[index][0])\n",
    "            X_C_batch.append(X[index][1])\n",
    "            X_O_batch.append(X[index][2])\n",
    "            y_start_batch.append(np.eye(max_len)[y[index][0]])\n",
    "            y_end_batch.append(np.eye(max_len)[y[index][1]])\n",
    "        yield( [np.array(X_Q_batch),np.array(X_C_batch),np.array(X_O_batch)], [np.array(y_start_batch),np.array(y_end_batch)])\n",
    "            "
   ]
  },
  {
   "cell_type": "code",
   "execution_count": 29,
   "metadata": {},
   "outputs": [],
   "source": [
    "batch_size = 128  # Batch size for training.\n",
    "epochs = 200  # Number of epochs to train for.\n",
    "train_generator=generator(X_train,y_train,batch_size=batch_size)\n",
    "dev_generator=generator(X_dev,y_dev,batch_size=batch_size)"
   ]
  },
  {
   "cell_type": "code",
   "execution_count": 30,
   "metadata": {},
   "outputs": [],
   "source": [
    "from keras.callbacks import EarlyStopping, ModelCheckpoint\n",
    "# Set callback functions to early stop training and save the best model so far\n",
    "callbacks = [EarlyStopping(monitor='val_loss', patience=15),\n",
    "             ModelCheckpoint(filepath='where_value_best_model.h5', monitor='val_loss', save_best_only=True)]"
   ]
  },
  {
   "cell_type": "code",
   "execution_count": 31,
   "metadata": {},
   "outputs": [],
   "source": [
    "train_steps=len(X_train)/batch_size\n",
    "dev_steps=len(X_dev)/batch_size"
   ]
  },
  {
   "cell_type": "code",
   "execution_count": 33,
   "metadata": {},
   "outputs": [],
   "source": [
    "model.load_weights('where_value_best_model.h5')"
   ]
  },
  {
   "cell_type": "code",
   "execution_count": 104,
   "metadata": {
    "scrolled": true
   },
   "outputs": [
    {
     "name": "stdout",
     "output_type": "stream",
     "text": [
      "Epoch 1/200\n",
      "600/599 [==============================] - 495s 825ms/step - loss: 3.5138 - start_loss: 1.5779 - end_loss: 1.9359 - start_acc: 0.5992 - end_acc: 0.5112 - val_loss: 4.4390 - val_start_loss: 2.0401 - val_end_loss: 2.3989 - val_start_acc: 0.5134 - val_end_acc: 0.4293\n",
      "Epoch 2/200\n",
      "600/599 [==============================] - 494s 823ms/step - loss: 3.3801 - start_loss: 1.5141 - end_loss: 1.8660 - start_acc: 0.6186 - end_acc: 0.5357 - val_loss: 4.3011 - val_start_loss: 1.9590 - val_end_loss: 2.3421 - val_start_acc: 0.5206 - val_end_acc: 0.4408\n",
      "Epoch 3/200\n",
      "600/599 [==============================] - 494s 824ms/step - loss: 3.3037 - start_loss: 1.4817 - end_loss: 1.8220 - start_acc: 0.6286 - end_acc: 0.5504 - val_loss: 4.3439 - val_start_loss: 1.9887 - val_end_loss: 2.3552 - val_start_acc: 0.5139 - val_end_acc: 0.4384\n",
      "Epoch 4/200\n",
      "600/599 [==============================] - 494s 824ms/step - loss: 3.2765 - start_loss: 1.4651 - end_loss: 1.8114 - start_acc: 0.6336 - end_acc: 0.5534 - val_loss: 4.3325 - val_start_loss: 1.9770 - val_end_loss: 2.3554 - val_start_acc: 0.5179 - val_end_acc: 0.4427\n",
      "Epoch 5/200\n",
      "600/599 [==============================] - 494s 824ms/step - loss: 3.2466 - start_loss: 1.4556 - end_loss: 1.7910 - start_acc: 0.6352 - end_acc: 0.5592 - val_loss: 4.2962 - val_start_loss: 1.9661 - val_end_loss: 2.3300 - val_start_acc: 0.5266 - val_end_acc: 0.4526\n",
      "Epoch 6/200\n",
      "600/599 [==============================] - 495s 825ms/step - loss: 3.2405 - start_loss: 1.4476 - end_loss: 1.7929 - start_acc: 0.6389 - end_acc: 0.5583 - val_loss: 4.2405 - val_start_loss: 1.9383 - val_end_loss: 2.3022 - val_start_acc: 0.5271 - val_end_acc: 0.4575\n",
      "Epoch 7/200\n",
      "600/599 [==============================] - 495s 824ms/step - loss: 3.2144 - start_loss: 1.4369 - end_loss: 1.7774 - start_acc: 0.6389 - end_acc: 0.5629 - val_loss: 4.2820 - val_start_loss: 1.9536 - val_end_loss: 2.3284 - val_start_acc: 0.5270 - val_end_acc: 0.4465\n",
      "Epoch 8/200\n",
      "600/599 [==============================] - 502s 837ms/step - loss: 3.2059 - start_loss: 1.4323 - end_loss: 1.7736 - start_acc: 0.6442 - end_acc: 0.5642 - val_loss: 4.2267 - val_start_loss: 1.9353 - val_end_loss: 2.2914 - val_start_acc: 0.5240 - val_end_acc: 0.4542\n",
      "Epoch 9/200\n",
      "600/599 [==============================] - 499s 831ms/step - loss: 3.1885 - start_loss: 1.4254 - end_loss: 1.7631 - start_acc: 0.6438 - end_acc: 0.5672 - val_loss: 4.2931 - val_start_loss: 1.9658 - val_end_loss: 2.3273 - val_start_acc: 0.5237 - val_end_acc: 0.4503\n",
      "Epoch 10/200\n",
      "600/599 [==============================] - 498s 830ms/step - loss: 3.1687 - start_loss: 1.4159 - end_loss: 1.7528 - start_acc: 0.6451 - end_acc: 0.5694 - val_loss: 4.2426 - val_start_loss: 1.9393 - val_end_loss: 2.3033 - val_start_acc: 0.5258 - val_end_acc: 0.4528\n",
      "Epoch 11/200\n",
      "600/599 [==============================] - 498s 830ms/step - loss: 3.1714 - start_loss: 1.4172 - end_loss: 1.7542 - start_acc: 0.6455 - end_acc: 0.5680 - val_loss: 4.2418 - val_start_loss: 1.9237 - val_end_loss: 2.3181 - val_start_acc: 0.5358 - val_end_acc: 0.4574\n",
      "Epoch 12/200\n",
      "600/599 [==============================] - 498s 830ms/step - loss: 3.1392 - start_loss: 1.3981 - end_loss: 1.7411 - start_acc: 0.6498 - end_acc: 0.5720 - val_loss: 4.2469 - val_start_loss: 1.9283 - val_end_loss: 2.3187 - val_start_acc: 0.5337 - val_end_acc: 0.4530\n",
      "Epoch 13/200\n",
      "600/599 [==============================] - 494s 824ms/step - loss: 3.1215 - start_loss: 1.3901 - end_loss: 1.7314 - start_acc: 0.6506 - end_acc: 0.5721 - val_loss: 4.2281 - val_start_loss: 1.9178 - val_end_loss: 2.3103 - val_start_acc: 0.5317 - val_end_acc: 0.4500\n",
      "Epoch 14/200\n",
      "600/599 [==============================] - 495s 825ms/step - loss: 3.1265 - start_loss: 1.3895 - end_loss: 1.7370 - start_acc: 0.6497 - end_acc: 0.5734 - val_loss: 4.2309 - val_start_loss: 1.9444 - val_end_loss: 2.2865 - val_start_acc: 0.5302 - val_end_acc: 0.4575\n",
      "Epoch 15/200\n",
      "600/599 [==============================] - 495s 824ms/step - loss: 3.1077 - start_loss: 1.3875 - end_loss: 1.7202 - start_acc: 0.6535 - end_acc: 0.5772 - val_loss: 4.2590 - val_start_loss: 1.9387 - val_end_loss: 2.3202 - val_start_acc: 0.5235 - val_end_acc: 0.4569\n",
      "Epoch 16/200\n",
      "600/599 [==============================] - 495s 824ms/step - loss: 3.0843 - start_loss: 1.3751 - end_loss: 1.7091 - start_acc: 0.6544 - end_acc: 0.5765 - val_loss: 4.2353 - val_start_loss: 1.9264 - val_end_loss: 2.3089 - val_start_acc: 0.5355 - val_end_acc: 0.4569\n",
      "Epoch 17/200\n",
      "600/599 [==============================] - 495s 824ms/step - loss: 3.0913 - start_loss: 1.3776 - end_loss: 1.7137 - start_acc: 0.6536 - end_acc: 0.5767 - val_loss: 4.2750 - val_start_loss: 1.9583 - val_end_loss: 2.3168 - val_start_acc: 0.5291 - val_end_acc: 0.4523\n",
      "Epoch 18/200\n",
      "600/599 [==============================] - 494s 824ms/step - loss: 3.0840 - start_loss: 1.3742 - end_loss: 1.7098 - start_acc: 0.6560 - end_acc: 0.5783 - val_loss: 4.2566 - val_start_loss: 1.9354 - val_end_loss: 2.3212 - val_start_acc: 0.5367 - val_end_acc: 0.4548\n",
      "Epoch 19/200\n",
      "600/599 [==============================] - 494s 824ms/step - loss: 3.0740 - start_loss: 1.3672 - end_loss: 1.7068 - start_acc: 0.6548 - end_acc: 0.5815 - val_loss: 4.2908 - val_start_loss: 1.9711 - val_end_loss: 2.3197 - val_start_acc: 0.5276 - val_end_acc: 0.4583\n",
      "Epoch 20/200\n",
      "600/599 [==============================] - 495s 824ms/step - loss: 3.0652 - start_loss: 1.3655 - end_loss: 1.6997 - start_acc: 0.6584 - end_acc: 0.5823 - val_loss: 4.2152 - val_start_loss: 1.9214 - val_end_loss: 2.2938 - val_start_acc: 0.5421 - val_end_acc: 0.4570\n",
      "Epoch 21/200\n",
      "600/599 [==============================] - 495s 825ms/step - loss: 3.0549 - start_loss: 1.3640 - end_loss: 1.6909 - start_acc: 0.6588 - end_acc: 0.5820 - val_loss: 4.2486 - val_start_loss: 1.9490 - val_end_loss: 2.2995 - val_start_acc: 0.5258 - val_end_acc: 0.4607\n",
      "Epoch 22/200\n",
      "600/599 [==============================] - 495s 825ms/step - loss: 3.0470 - start_loss: 1.3620 - end_loss: 1.6850 - start_acc: 0.6586 - end_acc: 0.5834 - val_loss: 4.2167 - val_start_loss: 1.9404 - val_end_loss: 2.2763 - val_start_acc: 0.5344 - val_end_acc: 0.4628\n",
      "Epoch 23/200\n",
      "600/599 [==============================] - 495s 825ms/step - loss: 3.0317 - start_loss: 1.3552 - end_loss: 1.6765 - start_acc: 0.6569 - end_acc: 0.5836 - val_loss: 4.2697 - val_start_loss: 1.9506 - val_end_loss: 2.3191 - val_start_acc: 0.5325 - val_end_acc: 0.4556\n",
      "Epoch 24/200\n",
      "600/599 [==============================] - 495s 825ms/step - loss: 3.0296 - start_loss: 1.3490 - end_loss: 1.6806 - start_acc: 0.6601 - end_acc: 0.5818 - val_loss: 4.2307 - val_start_loss: 1.9243 - val_end_loss: 2.3063 - val_start_acc: 0.5264 - val_end_acc: 0.4548\n",
      "Epoch 25/200\n",
      "600/599 [==============================] - 495s 824ms/step - loss: 3.0464 - start_loss: 1.3539 - end_loss: 1.6925 - start_acc: 0.6601 - end_acc: 0.5827 - val_loss: 4.2114 - val_start_loss: 1.9392 - val_end_loss: 2.2722 - val_start_acc: 0.5266 - val_end_acc: 0.4548\n",
      "Epoch 26/200\n",
      "600/599 [==============================] - 494s 824ms/step - loss: 3.0317 - start_loss: 1.3505 - end_loss: 1.6812 - start_acc: 0.6581 - end_acc: 0.5830 - val_loss: 4.2810 - val_start_loss: 1.9595 - val_end_loss: 2.3216 - val_start_acc: 0.5383 - val_end_acc: 0.4581\n",
      "Epoch 27/200\n",
      "600/599 [==============================] - 495s 825ms/step - loss: 3.0098 - start_loss: 1.3306 - end_loss: 1.6793 - start_acc: 0.6634 - end_acc: 0.5828 - val_loss: 4.2176 - val_start_loss: 1.9366 - val_end_loss: 2.2810 - val_start_acc: 0.5280 - val_end_acc: 0.4554\n",
      "Epoch 28/200\n",
      "600/599 [==============================] - 495s 825ms/step - loss: 3.0087 - start_loss: 1.3377 - end_loss: 1.6710 - start_acc: 0.6635 - end_acc: 0.5846 - val_loss: 4.2167 - val_start_loss: 1.9270 - val_end_loss: 2.2897 - val_start_acc: 0.5385 - val_end_acc: 0.4602\n",
      "Epoch 29/200\n",
      "600/599 [==============================] - 495s 825ms/step - loss: 2.9964 - start_loss: 1.3325 - end_loss: 1.6639 - start_acc: 0.6640 - end_acc: 0.5865 - val_loss: 4.2989 - val_start_loss: 1.9679 - val_end_loss: 2.3311 - val_start_acc: 0.5281 - val_end_acc: 0.4482\n",
      "Epoch 30/200\n",
      "600/599 [==============================] - 494s 823ms/step - loss: 2.9769 - start_loss: 1.3226 - end_loss: 1.6543 - start_acc: 0.6668 - end_acc: 0.5905 - val_loss: 4.2588 - val_start_loss: 1.9526 - val_end_loss: 2.3061 - val_start_acc: 0.5355 - val_end_acc: 0.4624\n",
      "Epoch 31/200\n",
      "600/599 [==============================] - 494s 824ms/step - loss: 2.9755 - start_loss: 1.3250 - end_loss: 1.6505 - start_acc: 0.6644 - end_acc: 0.5909 - val_loss: 4.2698 - val_start_loss: 1.9492 - val_end_loss: 2.3207 - val_start_acc: 0.5295 - val_end_acc: 0.4570\n",
      "Epoch 32/200\n",
      "600/599 [==============================] - 494s 823ms/step - loss: 3.0063 - start_loss: 1.3385 - end_loss: 1.6677 - start_acc: 0.6621 - end_acc: 0.5863 - val_loss: 4.2824 - val_start_loss: 1.9589 - val_end_loss: 2.3235 - val_start_acc: 0.5292 - val_end_acc: 0.4584\n",
      "Epoch 33/200\n",
      "600/599 [==============================] - 494s 824ms/step - loss: 2.9779 - start_loss: 1.3243 - end_loss: 1.6536 - start_acc: 0.6653 - end_acc: 0.5895 - val_loss: 4.1897 - val_start_loss: 1.9048 - val_end_loss: 2.2849 - val_start_acc: 0.5363 - val_end_acc: 0.4684\n",
      "Epoch 34/200\n",
      "600/599 [==============================] - 494s 824ms/step - loss: 2.9585 - start_loss: 1.3209 - end_loss: 1.6376 - start_acc: 0.6670 - end_acc: 0.5922 - val_loss: 4.2257 - val_start_loss: 1.9189 - val_end_loss: 2.3068 - val_start_acc: 0.5331 - val_end_acc: 0.4590\n",
      "Epoch 35/200\n",
      "600/599 [==============================] - 494s 823ms/step - loss: 2.9815 - start_loss: 1.3295 - end_loss: 1.6519 - start_acc: 0.6634 - end_acc: 0.5901 - val_loss: 4.2502 - val_start_loss: 1.9482 - val_end_loss: 2.3021 - val_start_acc: 0.5264 - val_end_acc: 0.4578\n",
      "Epoch 36/200\n",
      "600/599 [==============================] - 494s 824ms/step - loss: 2.9786 - start_loss: 1.3269 - end_loss: 1.6517 - start_acc: 0.6644 - end_acc: 0.5875 - val_loss: 4.2350 - val_start_loss: 1.9377 - val_end_loss: 2.2973 - val_start_acc: 0.5300 - val_end_acc: 0.4584\n",
      "Epoch 37/200\n",
      "600/599 [==============================] - 494s 823ms/step - loss: 2.9761 - start_loss: 1.3199 - end_loss: 1.6562 - start_acc: 0.6632 - end_acc: 0.5881 - val_loss: 4.3315 - val_start_loss: 1.9796 - val_end_loss: 2.3520 - val_start_acc: 0.5246 - val_end_acc: 0.4549\n",
      "Epoch 38/200\n",
      "600/599 [==============================] - 494s 823ms/step - loss: 2.9598 - start_loss: 1.3175 - end_loss: 1.6423 - start_acc: 0.6678 - end_acc: 0.5926 - val_loss: 4.1819 - val_start_loss: 1.9202 - val_end_loss: 2.2616 - val_start_acc: 0.5407 - val_end_acc: 0.4670\n",
      "Epoch 39/200\n",
      "600/599 [==============================] - 494s 823ms/step - loss: 2.9447 - start_loss: 1.3097 - end_loss: 1.6350 - start_acc: 0.6689 - end_acc: 0.5928 - val_loss: 4.2799 - val_start_loss: 1.9684 - val_end_loss: 2.3115 - val_start_acc: 0.5207 - val_end_acc: 0.4601\n",
      "Epoch 40/200\n",
      "600/599 [==============================] - 494s 823ms/step - loss: 2.9651 - start_loss: 1.3233 - end_loss: 1.6418 - start_acc: 0.6679 - end_acc: 0.5939 - val_loss: 4.2643 - val_start_loss: 1.9618 - val_end_loss: 2.3025 - val_start_acc: 0.5297 - val_end_acc: 0.4645\n",
      "Epoch 41/200\n",
      "600/599 [==============================] - 494s 823ms/step - loss: 2.9552 - start_loss: 1.3156 - end_loss: 1.6396 - start_acc: 0.6666 - end_acc: 0.5910 - val_loss: 4.2038 - val_start_loss: 1.9234 - val_end_loss: 2.2804 - val_start_acc: 0.5314 - val_end_acc: 0.4669\n",
      "Epoch 42/200\n",
      "600/599 [==============================] - 494s 823ms/step - loss: 2.9370 - start_loss: 1.3069 - end_loss: 1.6302 - start_acc: 0.6693 - end_acc: 0.5931 - val_loss: 4.1966 - val_start_loss: 1.9275 - val_end_loss: 2.2691 - val_start_acc: 0.5325 - val_end_acc: 0.4735\n",
      "Epoch 43/200\n",
      "600/599 [==============================] - 494s 823ms/step - loss: 2.9461 - start_loss: 1.3115 - end_loss: 1.6347 - start_acc: 0.6652 - end_acc: 0.5936 - val_loss: 4.2994 - val_start_loss: 1.9696 - val_end_loss: 2.3298 - val_start_acc: 0.5259 - val_end_acc: 0.4604\n",
      "Epoch 44/200\n",
      "600/599 [==============================] - 494s 824ms/step - loss: 2.9379 - start_loss: 1.3072 - end_loss: 1.6307 - start_acc: 0.6685 - end_acc: 0.5929 - val_loss: 4.2808 - val_start_loss: 1.9850 - val_end_loss: 2.2958 - val_start_acc: 0.5251 - val_end_acc: 0.4651\n",
      "Epoch 45/200\n",
      "600/599 [==============================] - 494s 824ms/step - loss: 2.9527 - start_loss: 1.3133 - end_loss: 1.6394 - start_acc: 0.6658 - end_acc: 0.5906 - val_loss: 4.2822 - val_start_loss: 1.9771 - val_end_loss: 2.3051 - val_start_acc: 0.5324 - val_end_acc: 0.4645\n",
      "Epoch 46/200\n",
      "600/599 [==============================] - 494s 823ms/step - loss: 2.9411 - start_loss: 1.3072 - end_loss: 1.6340 - start_acc: 0.6671 - end_acc: 0.5909 - val_loss: 4.2168 - val_start_loss: 1.9193 - val_end_loss: 2.2975 - val_start_acc: 0.5346 - val_end_acc: 0.4672\n",
      "Epoch 47/200\n",
      "600/599 [==============================] - 494s 823ms/step - loss: 2.9260 - start_loss: 1.2968 - end_loss: 1.6292 - start_acc: 0.6709 - end_acc: 0.5961 - val_loss: 4.2912 - val_start_loss: 1.9669 - val_end_loss: 2.3243 - val_start_acc: 0.5342 - val_end_acc: 0.4602\n",
      "Epoch 48/200\n",
      "600/599 [==============================] - 494s 824ms/step - loss: 2.9245 - start_loss: 1.2956 - end_loss: 1.6289 - start_acc: 0.6718 - end_acc: 0.5942 - val_loss: 4.2373 - val_start_loss: 1.9464 - val_end_loss: 2.2909 - val_start_acc: 0.5319 - val_end_acc: 0.4647\n",
      "Epoch 49/200\n",
      "600/599 [==============================] - 494s 823ms/step - loss: 2.9253 - start_loss: 1.3033 - end_loss: 1.6219 - start_acc: 0.6693 - end_acc: 0.5951 - val_loss: 4.2295 - val_start_loss: 1.9315 - val_end_loss: 2.2980 - val_start_acc: 0.5388 - val_end_acc: 0.4657\n",
      "Epoch 50/200\n",
      "600/599 [==============================] - 494s 824ms/step - loss: 2.8983 - start_loss: 1.2877 - end_loss: 1.6106 - start_acc: 0.6715 - end_acc: 0.5986 - val_loss: 4.3714 - val_start_loss: 2.0015 - val_end_loss: 2.3700 - val_start_acc: 0.5270 - val_end_acc: 0.4532\n",
      "Epoch 51/200\n",
      "600/599 [==============================] - 494s 823ms/step - loss: 2.9209 - start_loss: 1.3022 - end_loss: 1.6187 - start_acc: 0.6688 - end_acc: 0.5960 - val_loss: 4.2913 - val_start_loss: 1.9696 - val_end_loss: 2.3217 - val_start_acc: 0.5294 - val_end_acc: 0.4608\n",
      "Epoch 52/200\n",
      "600/599 [==============================] - 494s 824ms/step - loss: 2.8947 - start_loss: 1.2884 - end_loss: 1.6064 - start_acc: 0.6712 - end_acc: 0.5991 - val_loss: 4.3247 - val_start_loss: 1.9725 - val_end_loss: 2.3522 - val_start_acc: 0.5307 - val_end_acc: 0.4609\n",
      "Epoch 53/200\n",
      "600/599 [==============================] - 494s 824ms/step - loss: 2.9069 - start_loss: 1.2961 - end_loss: 1.6108 - start_acc: 0.6699 - end_acc: 0.5982 - val_loss: 4.2494 - val_start_loss: 1.9357 - val_end_loss: 2.3137 - val_start_acc: 0.5326 - val_end_acc: 0.4641\n"
     ]
    }
   ],
   "source": [
    "history=model.fit_generator(train_generator, steps_per_epoch=train_steps, epochs=epochs, verbose=1,\n",
    "                            callbacks=callbacks, validation_data=dev_generator,\n",
    "                            validation_steps=dev_steps,max_queue_size=10)"
   ]
  },
  {
   "cell_type": "code",
   "execution_count": 82,
   "metadata": {},
   "outputs": [
    {
     "data": {
      "image/png": "[encoded data removed]",
      "text/plain": [
       "<Figure size 1440x720 with 1 Axes>"
      ]
     },
     "metadata": {
      "needs_background": "light"
     },
     "output_type": "display_data"
    }
   ],
   "source": [
    "\n",
    "# Get training and test loss histories\n",
    "training_loss = history.history['loss']\n",
    "test_loss = history.history['val_loss']\n",
    "\n",
    "# Create count of the number of epochs\n",
    "epoch_count = range(1, len(training_loss) + 1)\n",
    "\n",
    "plt.figure(figsize=(20,10))\n",
    "# Visualize loss history\n",
    "plt.plot(epoch_count, training_loss, 'r--')\n",
    "plt.plot(epoch_count, test_loss, 'b-')\n",
    "plt.legend(['Training Loss', 'Validation Loss'])\n",
    "plt.xlabel('Epoch')\n",
    "plt.ylabel('Loss')\n",
    "plt.show();"
   ]
  },
  {
   "cell_type": "code",
   "execution_count": 35,
   "metadata": {},
   "outputs": [
    {
     "name": "stderr",
     "output_type": "stream",
     "text": [
      "15878it [00:01, 10511.58it/s]\n"
     ]
    }
   ],
   "source": [
    "X_test,y_test=get_dataset(test_data_json_path,test_tables)"
   ]
  },
  {
   "cell_type": "code",
   "execution_count": 36,
   "metadata": {},
   "outputs": [],
   "source": [
    "test_generator=generator(X_test,y_test,batch_size=batch_size)\n",
    "test_steps=len(X_test)/batch_size"
   ]
  },
  {
   "cell_type": "code",
   "execution_count": 39,
   "metadata": {},
   "outputs": [
    {
     "name": "stdout",
     "output_type": "stream",
     "text": [
      "91/90 [==============================] - 38s 413ms/step\n"
     ]
    },
    {
     "data": {
      "text/plain": [
       "[3.733716597923866,\n",
       " 1.7507181062803163,\n",
       " 1.982998489023565,\n",
       " 0.5792410714285714,\n",
       " 0.529790521978022]"
      ]
     },
     "execution_count": 39,
     "metadata": {},
     "output_type": "execute_result"
    }
   ],
   "source": [
    "model.evaluate_generator(dev_generator, steps=dev_steps, verbose=1)"
   ]
  },
  {
   "cell_type": "code",
   "execution_count": 38,
   "metadata": {},
   "outputs": [
    {
     "name": "stdout",
     "output_type": "stream",
     "text": [
      "171/170 [==============================] - 71s 416ms/step\n"
     ]
    },
    {
     "data": {
      "text/plain": [
       "[3.7847146876374183,\n",
       " 1.7848072198399327,\n",
       " 1.9999074712831375,\n",
       " 0.5723227339181286,\n",
       " 0.5256304824561403]"
      ]
     },
     "execution_count": 38,
     "metadata": {},
     "output_type": "execute_result"
    }
   ],
   "source": [
    "model.evaluate_generator(test_generator, steps=test_steps, verbose=1)"
   ]
  },
  {
   "cell_type": "code",
   "execution_count": null,
   "metadata": {},
   "outputs": [],
   "source": []
  }
 ],
 "metadata": {
  "kernelspec": {
   "display_name": "Python 3",
   "language": "python",
   "name": "python3"
  },
  "language_info": {
   "codemirror_mode": {
    "name": "ipython",
    "version": 3
   },
   "file_extension": ".py",
   "mimetype": "text/x-python",
   "name": "python",
   "nbconvert_exporter": "python",
   "pygments_lexer": "ipython3",
   "version": "3.6.8"
  }
 },
 "nbformat": 4,
 "nbformat_minor": 2
}
