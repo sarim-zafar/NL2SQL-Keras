{
 "cells": [
  {
   "cell_type": "code",
   "execution_count": 1,
   "metadata": {},
   "outputs": [
    {
     "name": "stderr",
     "output_type": "stream",
     "text": [
      "Using TensorFlow backend.\n"
     ]
    }
   ],
   "source": [
    "import pandas as pd\n",
    "import jsonlines\n",
    "from tqdm import tqdm\n",
    "import os\n",
    "os.environ[\"CUDA_DEVICE_ORDER\"] = \"PCI_BUS_ID\"   # see issue #152\n",
    "os.environ[\"CUDA_VISIBLE_DEVICES\"] = \"\"\n",
    "\n",
    "from keras.preprocessing.text import Tokenizer\n",
    "from keras.preprocessing.sequence import pad_sequences\n",
    "import numpy as np\n",
    "import matplotlib.pyplot as plt\n",
    "plt.rcParams['figure.figsize'] = (20.0, 10.0)"
   ]
  },
  {
   "cell_type": "code",
   "execution_count": 2,
   "metadata": {},
   "outputs": [],
   "source": [
    "#Paths\n",
    "train_db_path='WikiSQL/data/train.db'\n",
    "train_data_json_path='WikiSQL/data/train.jsonl'\n",
    "train_table_json_path='WikiSQL/data/train.tables.jsonl'\n",
    "\n",
    "\n",
    "dev_db_path='WikiSQL/data/dev.db'\n",
    "dev_data_json_path='WikiSQL/data/dev.jsonl'\n",
    "dev_table_json_path='WikiSQL/data/dev.tables.jsonl'\n",
    "\n",
    "test_db_path='WikiSQL/data/test.db'\n",
    "test_data_json_path='WikiSQL/data/test.jsonl'\n",
    "test_table_json_path='WikiSQL/data/test.tables.jsonl'"
   ]
  },
  {
   "cell_type": "code",
   "execution_count": 3,
   "metadata": {},
   "outputs": [],
   "source": [
    "cond_ops = ['=', '>', '<', 'OP']"
   ]
  },
  {
   "cell_type": "code",
   "execution_count": 4,
   "metadata": {},
   "outputs": [],
   "source": [
    "def get_col_tokens(table_json_path):\n",
    "    tokens=[]\n",
    "    with jsonlines.open(table_json_path) as reader:\n",
    "        for obj in tqdm(reader):\n",
    "            for header in obj['header']:\n",
    "                tokens.append(header)\n",
    "    return tokens"
   ]
  },
  {
   "cell_type": "code",
   "execution_count": 5,
   "metadata": {},
   "outputs": [],
   "source": [
    "def get_question_tokens(data_json_path):\n",
    "    tokens=[]\n",
    "    with jsonlines.open(data_json_path) as reader:\n",
    "        for obj in tqdm(reader):\n",
    "            tokens.append(obj['question'])\n",
    "    return tokens"
   ]
  },
  {
   "cell_type": "code",
   "execution_count": 6,
   "metadata": {},
   "outputs": [
    {
     "name": "stderr",
     "output_type": "stream",
     "text": [
      "18585it [00:00, 35700.15it/s]\n",
      "2716it [00:00, 33532.90it/s]\n",
      "5230it [00:00, 32844.29it/s]\n"
     ]
    }
   ],
   "source": [
    "texts=[]\n",
    "texts.extend(get_col_tokens(train_table_json_path))\n",
    "texts.extend(get_col_tokens(dev_table_json_path))\n",
    "texts.extend(get_col_tokens(test_table_json_path))"
   ]
  },
  {
   "cell_type": "code",
   "execution_count": 7,
   "metadata": {},
   "outputs": [
    {
     "name": "stderr",
     "output_type": "stream",
     "text": [
      "56355it [00:00, 153766.69it/s]\n",
      "8421it [00:00, 114118.09it/s]\n",
      "15878it [00:00, 150721.41it/s]\n"
     ]
    }
   ],
   "source": [
    "texts.extend(get_question_tokens(train_data_json_path))\n",
    "texts.extend(get_question_tokens(dev_data_json_path))\n",
    "texts.extend(get_question_tokens(test_data_json_path))"
   ]
  },
  {
   "cell_type": "code",
   "execution_count": 8,
   "metadata": {},
   "outputs": [],
   "source": [
    "tokenizer=Tokenizer(char_level=True,lower=True)\n",
    "tokenizer.fit_on_texts(texts)"
   ]
  },
  {
   "cell_type": "code",
   "execution_count": 9,
   "metadata": {},
   "outputs": [
    {
     "data": {
      "text/plain": [
       "1246"
      ]
     },
     "execution_count": 9,
     "metadata": {},
     "output_type": "execute_result"
    }
   ],
   "source": [
    "max_token_index=len(tokenizer.index_word.keys())+1\n",
    "max_token_index"
   ]
  },
  {
   "cell_type": "code",
   "execution_count": 10,
   "metadata": {},
   "outputs": [],
   "source": [
    "def text2seq(text):\n",
    "    return np.ravel([tokenizer.texts_to_sequences([text])])"
   ]
  },
  {
   "cell_type": "code",
   "execution_count": 11,
   "metadata": {},
   "outputs": [
    {
     "data": {
      "text/plain": [
       "419"
      ]
     },
     "execution_count": 11,
     "metadata": {},
     "output_type": "execute_result"
    }
   ],
   "source": [
    "max_len=0\n",
    "for text in texts:\n",
    "    if len(text2seq(text))>max_len:\n",
    "        max_len=len(text2seq(text))\n",
    "max_len"
   ]
  },
  {
   "cell_type": "code",
   "execution_count": 12,
   "metadata": {},
   "outputs": [],
   "source": [
    "def text2seq(text):\n",
    "    return np.ravel(pad_sequences(tokenizer.texts_to_sequences([text]),maxlen=max_len,padding='post'))"
   ]
  },
  {
   "cell_type": "code",
   "execution_count": 13,
   "metadata": {},
   "outputs": [
    {
     "data": {
      "image/png": "[encoded data removed]",
      "text/plain": [
       "<Figure size 432x288 with 1 Axes>"
      ]
     },
     "metadata": {
      "needs_background": "light"
     },
     "output_type": "display_data"
    }
   ],
   "source": [
    "df = pd.Series(texts)\n",
    "df.str.len().hist(bins=100)\n",
    "plt.show()"
   ]
  },
  {
   "cell_type": "code",
   "execution_count": 14,
   "metadata": {},
   "outputs": [],
   "source": [
    "del texts"
   ]
  },
  {
   "cell_type": "code",
   "execution_count": 15,
   "metadata": {},
   "outputs": [],
   "source": [
    "#make a dict to keep track of all the columns of all the tables\n",
    "def get_table(table_json_path):\n",
    "    tables={}\n",
    "    with jsonlines.open(table_json_path) as reader:\n",
    "        for obj in tqdm(reader):\n",
    "            tables[obj['id']]={'headers':[],'types':[]}\n",
    "            tables[obj['id']]['headers']=obj['header']\n",
    "            tables[obj['id']]['types']=obj['types']\n",
    "    return tables"
   ]
  },
  {
   "cell_type": "code",
   "execution_count": 16,
   "metadata": {},
   "outputs": [
    {
     "name": "stderr",
     "output_type": "stream",
     "text": [
      "18585it [00:00, 33517.47it/s]\n",
      "2716it [00:00, 41724.43it/s]\n",
      "5230it [00:00, 36280.39it/s]\n"
     ]
    }
   ],
   "source": [
    "train_tables=get_table(train_table_json_path)\n",
    "dev_tables=get_table(dev_table_json_path)\n",
    "test_tables=get_table(test_table_json_path)"
   ]
  },
  {
   "cell_type": "code",
   "execution_count": 17,
   "metadata": {},
   "outputs": [],
   "source": [
    "def get_where_cols_ops(dict_obj,tables):\n",
    "    temp=tables[dict_obj['table_id']]['headers']\n",
    "    where_cols = []\n",
    "    ops=[]\n",
    "    for cond in dict_obj['sql']['conds']:\n",
    "        where_cols.append(temp[cond[0]])\n",
    "        ops.append(cond_ops[cond[1]])\n",
    "    return where_cols,ops\n",
    "    "
   ]
  },
  {
   "cell_type": "code",
   "execution_count": 18,
   "metadata": {},
   "outputs": [],
   "source": [
    "def get_dataset(data_json_path,table):\n",
    "    #read the jsonl file\n",
    "    Q=[]\n",
    "    C=[]\n",
    "    y=[]\n",
    "    global tokenizer\n",
    "    with jsonlines.open(data_json_path) as reader:\n",
    "        for obj in tqdm(reader):\n",
    "            where_cols,ops=get_where_cols_ops(obj,table)\n",
    "            question=obj['question']\n",
    "            \n",
    "    \n",
    "            #tokenized representation\n",
    "            question=text2seq(question)\n",
    "            for i in range(len(where_cols)):\n",
    "                \n",
    "                Q.append(question)\n",
    "                C.append(text2seq(where_cols[i]))\n",
    "                y.append(ops[i])\n",
    "            \n",
    "    return Q,C,y"
   ]
  },
  {
   "cell_type": "code",
   "execution_count": 19,
   "metadata": {},
   "outputs": [
    {
     "name": "stderr",
     "output_type": "stream",
     "text": [
      "56355it [00:05, 9397.34it/s]\n"
     ]
    }
   ],
   "source": [
    "Q_train,C_train,y_train=get_dataset(train_data_json_path,train_tables)"
   ]
  },
  {
   "cell_type": "code",
   "execution_count": 20,
   "metadata": {},
   "outputs": [
    {
     "name": "stderr",
     "output_type": "stream",
     "text": [
      "8421it [00:00, 9483.12it/s]\n"
     ]
    }
   ],
   "source": [
    "Q_dev,C_dev,y_dev=get_dataset(dev_data_json_path,dev_tables)"
   ]
  },
  {
   "cell_type": "code",
   "execution_count": 21,
   "metadata": {},
   "outputs": [
    {
     "data": {
      "text/plain": [
       "=    63880\n",
       ">     6606\n",
       "<     6243\n",
       "dtype: int64"
      ]
     },
     "execution_count": 21,
     "metadata": {},
     "output_type": "execute_result"
    }
   ],
   "source": [
    "pd.Series(y_train).value_counts()"
   ]
  },
  {
   "cell_type": "code",
   "execution_count": 22,
   "metadata": {},
   "outputs": [
    {
     "data": {
      "text/plain": [
       "array([4.09680175, 0.40038092, 3.87168231])"
      ]
     },
     "execution_count": 22,
     "metadata": {},
     "output_type": "execute_result"
    }
   ],
   "source": [
    "from sklearn.utils.class_weight import compute_class_weight\n",
    "class_weight=compute_class_weight('balanced',np.unique(y_train),y_train)\n",
    "class_weight"
   ]
  },
  {
   "cell_type": "code",
   "execution_count": 23,
   "metadata": {},
   "outputs": [],
   "source": [
    "from sklearn import preprocessing\n",
    "lb = preprocessing.LabelBinarizer()\n",
    "y_train=lb.fit_transform(y_train)\n",
    "y_dev=lb.transform(y_dev)"
   ]
  },
  {
   "cell_type": "code",
   "execution_count": 24,
   "metadata": {},
   "outputs": [
    {
     "data": {
      "text/plain": [
       "['lb_ops.joblib']"
      ]
     },
     "execution_count": 24,
     "metadata": {},
     "output_type": "execute_result"
    }
   ],
   "source": [
    "from joblib import dump, load\n",
    "dump(lb,'lb_ops.joblib')"
   ]
  },
  {
   "cell_type": "code",
   "execution_count": 45,
   "metadata": {},
   "outputs": [
    {
     "data": {
      "text/plain": [
       "array([[    0,     1,     0],\n",
       "       [    0,     2,     0],\n",
       "       [    0,     3,     0],\n",
       "       ...,\n",
       "       [ 6243, 63878,  6606],\n",
       "       [ 6243, 63879,  6606],\n",
       "       [ 6243, 63880,  6606]])"
      ]
     },
     "execution_count": 45,
     "metadata": {},
     "output_type": "execute_result"
    }
   ],
   "source": [
    "y_train.cumsum(axis=0)"
   ]
  },
  {
   "cell_type": "code",
   "execution_count": 46,
   "metadata": {},
   "outputs": [],
   "source": [
    "#dimension\n",
    "d=64\n",
    "from keras.models import Model\n",
    "from keras.layers import Input, GRU, Dense ,Flatten , Concatenate,Bidirectional\n",
    "from keras.layers.embeddings import Embedding\n",
    "from keras.constraints import max_norm\n",
    "from keras import regularizers"
   ]
  },
  {
   "cell_type": "code",
   "execution_count": 56,
   "metadata": {},
   "outputs": [
    {
     "name": "stdout",
     "output_type": "stream",
     "text": [
      "__________________________________________________________________________________________________\n",
      "Layer (type)                    Output Shape         Param #     Connected to                     \n",
      "==================================================================================================\n",
      "Q_input (InputLayer)            (None, 419)          0                                            \n",
      "__________________________________________________________________________________________________\n",
      "C_input (InputLayer)            (None, 419)          0                                            \n",
      "__________________________________________________________________________________________________\n",
      "embedding (Embedding)           (None, 419, 64)      79744       Q_input[0][0]                    \n",
      "                                                                 C_input[0][0]                    \n",
      "__________________________________________________________________________________________________\n",
      "bidirectional_5 (Bidirectional) [(None, 128), (None, 49536       embedding[0][0]                  \n",
      "__________________________________________________________________________________________________\n",
      "bidirectional_6 (Bidirectional) [(None, 128), (None, 49536       embedding[1][0]                  \n",
      "__________________________________________________________________________________________________\n",
      "concatenate_3 (Concatenate)     (None, 256)          0           bidirectional_5[0][1]            \n",
      "                                                                 bidirectional_5[0][2]            \n",
      "                                                                 bidirectional_6[0][1]            \n",
      "                                                                 bidirectional_6[0][2]            \n",
      "__________________________________________________________________________________________________\n",
      "dense_3 (Dense)                 (None, 3)            771         concatenate_3[0][0]              \n",
      "==================================================================================================\n",
      "Total params: 179,587\n",
      "Trainable params: 179,587\n",
      "Non-trainable params: 0\n",
      "__________________________________________________________________________________________________\n"
     ]
    }
   ],
   "source": [
    "# Define an input sequence and process it.\n",
    "question_input = Input(shape=(max_len,),name='Q_input')\n",
    "column_input = Input(shape=(max_len,),name='C_input')\n",
    "\n",
    "embedding= Embedding(max_token_index, d, input_length=max_len,name='embedding')\n",
    "# embedding_C= Embedding(max_token_index, d, input_length=max_len,name='embedding_C')\n",
    "#                      embeddings_constraint=max_norm(2.),\n",
    "#                      embeddings_regularizer=regularizers.l1_l2(l1=0.001, l2=0.001))\n",
    "\n",
    "Q_embedding= embedding(question_input)\n",
    "C_embedding= embedding(column_input)\n",
    "\n",
    "\n",
    "\n",
    "encoder_question = Bidirectional(GRU(d, return_state=True))\n",
    "_ , Q_state_h1, Q_state_h2 = encoder_question(Q_embedding)\n",
    "\n",
    "encoder_column = Bidirectional(GRU(d, return_state=True))\n",
    "_ , C_state_h1, C_state_h2 = encoder_column(C_embedding)\n",
    "\n",
    "\n",
    "con=Concatenate()([Q_state_h1,Q_state_h2,C_state_h1,C_state_h2])\n",
    "\n",
    "\n",
    "final=Dense(3,activation='softmax')(con)\n",
    "\n",
    "model = Model([question_input, column_input], final)\n",
    "model.summary()"
   ]
  },
  {
   "cell_type": "code",
   "execution_count": 57,
   "metadata": {},
   "outputs": [],
   "source": [
    "from keras import backend as K\n",
    "\n",
    "def first_class_accuracy(y_true, y_pred):\n",
    "    class_id_true = K.argmax(y_true, axis=-1)\n",
    "    class_id_preds = K.argmax(y_pred, axis=-1)\n",
    "    accuracy_mask = K.cast(K.equal(class_id_preds, 0), 'int32')\n",
    "    class_acc_tensor = K.cast(K.equal(class_id_true, class_id_preds), 'int32') * accuracy_mask\n",
    "    class_acc = K.sum(class_acc_tensor) / K.maximum(K.sum(accuracy_mask), 1)\n",
    "    return class_acc\n",
    "\n",
    "\n",
    "def second_class_accuracy(y_true, y_pred):\n",
    "    class_id_true = K.argmax(y_true, axis=-1)\n",
    "    class_id_preds = K.argmax(y_pred, axis=-1)\n",
    "    accuracy_mask = K.cast(K.equal(class_id_preds, 1), 'int32')\n",
    "    class_acc_tensor = K.cast(K.equal(class_id_true, class_id_preds), 'int32') * accuracy_mask\n",
    "    class_acc = K.sum(class_acc_tensor) / K.maximum(K.sum(accuracy_mask), 1)\n",
    "    return class_acc\n",
    "\n",
    "\n",
    "\n",
    "def third_class_accuracy(y_true, y_pred):\n",
    "    class_id_true = K.argmax(y_true, axis=-1)\n",
    "    class_id_preds = K.argmax(y_pred, axis=-1)\n",
    "    accuracy_mask = K.cast(K.equal(class_id_preds, 2), 'int32')\n",
    "    class_acc_tensor = K.cast(K.equal(class_id_true, class_id_preds), 'int32') * accuracy_mask\n",
    "    class_acc = K.sum(class_acc_tensor) / K.maximum(K.sum(accuracy_mask), 1)\n",
    "    return class_acc\n",
    "\n"
   ]
  },
  {
   "cell_type": "code",
   "execution_count": 58,
   "metadata": {},
   "outputs": [],
   "source": [
    "from keras import optimizers\n",
    "\n",
    "opt = optimizers.Adam()"
   ]
  },
  {
   "cell_type": "code",
   "execution_count": 59,
   "metadata": {},
   "outputs": [],
   "source": [
    "# Run training\n",
    "model.compile(optimizer=opt, loss='categorical_crossentropy',metrics=['accuracy',\n",
    "                                                                     first_class_accuracy,\n",
    "                                                                     second_class_accuracy,\n",
    "                                                                     third_class_accuracy])"
   ]
  },
  {
   "cell_type": "code",
   "execution_count": 60,
   "metadata": {},
   "outputs": [],
   "source": [
    "batch_size = 128  # Batch size for training.\n",
    "epochs = 100  # Number of epochs to train for."
   ]
  },
  {
   "cell_type": "code",
   "execution_count": 61,
   "metadata": {},
   "outputs": [],
   "source": [
    "from keras.callbacks import EarlyStopping, ModelCheckpoint\n",
    "# Set callback functions to early stop training and save the best model so far\n",
    "callbacks = [EarlyStopping(monitor='val_loss', patience=5),\n",
    "             ModelCheckpoint(filepath='select_ops_best_model.h5', monitor='val_loss', save_best_only=True)]"
   ]
  },
  {
   "cell_type": "code",
   "execution_count": 64,
   "metadata": {
    "scrolled": true
   },
   "outputs": [
    {
     "name": "stdout",
     "output_type": "stream",
     "text": [
      "Train on 76729 samples, validate on 11545 samples\n",
      "Epoch 1/100\n",
      "76729/76729 [==============================] - 857s 11ms/step - loss: 0.4582 - acc: 0.8364 - first_class_accuracy: 0.1991 - second_class_accuracy: 0.8602 - third_class_accuracy: 0.1939 - val_loss: 0.4193 - val_acc: 0.8319 - val_first_class_accuracy: 0.1720 - val_second_class_accuracy: 0.8754 - val_third_class_accuracy: 0.3103\n",
      "Epoch 2/100\n",
      "76729/76729 [==============================] - 942s 12ms/step - loss: 0.3336 - acc: 0.8657 - first_class_accuracy: 0.4743 - second_class_accuracy: 0.9146 - third_class_accuracy: 0.4822 - val_loss: 0.2827 - val_acc: 0.8834 - val_first_class_accuracy: 0.5781 - val_second_class_accuracy: 0.9274 - val_third_class_accuracy: 0.4870\n",
      "Epoch 3/100\n",
      "76729/76729 [==============================] - 942s 12ms/step - loss: 0.2430 - acc: 0.9031 - first_class_accuracy: 0.6575 - second_class_accuracy: 0.9490 - third_class_accuracy: 0.6719 - val_loss: 0.2168 - val_acc: 0.9103 - val_first_class_accuracy: 0.5804 - val_second_class_accuracy: 0.9510 - val_third_class_accuracy: 0.5788\n",
      "Epoch 4/100\n",
      "76729/76729 [==============================] - 943s 12ms/step - loss: 0.2099 - acc: 0.9133 - first_class_accuracy: 0.6805 - second_class_accuracy: 0.9603 - third_class_accuracy: 0.6995 - val_loss: 0.1972 - val_acc: 0.9170 - val_first_class_accuracy: 0.5843 - val_second_class_accuracy: 0.9609 - val_third_class_accuracy: 0.6189\n",
      "Epoch 5/100\n",
      "76729/76729 [==============================] - 941s 12ms/step - loss: 0.1950 - acc: 0.9181 - first_class_accuracy: 0.6870 - second_class_accuracy: 0.9652 - third_class_accuracy: 0.7051 - val_loss: 0.1905 - val_acc: 0.9186 - val_first_class_accuracy: 0.6354 - val_second_class_accuracy: 0.9577 - val_third_class_accuracy: 0.5972\n",
      "Epoch 6/100\n",
      "76729/76729 [==============================] - 942s 12ms/step - loss: 0.1843 - acc: 0.9229 - first_class_accuracy: 0.7045 - second_class_accuracy: 0.9692 - third_class_accuracy: 0.7201 - val_loss: 0.1823 - val_acc: 0.9228 - val_first_class_accuracy: 0.5786 - val_second_class_accuracy: 0.9747 - val_third_class_accuracy: 0.6345\n",
      "Epoch 7/100\n",
      "76729/76729 [==============================] - 941s 12ms/step - loss: 0.1763 - acc: 0.9243 - first_class_accuracy: 0.7028 - second_class_accuracy: 0.9703 - third_class_accuracy: 0.7225 - val_loss: 0.1753 - val_acc: 0.9225 - val_first_class_accuracy: 0.6062 - val_second_class_accuracy: 0.9548 - val_third_class_accuracy: 0.6526\n",
      "Epoch 8/100\n",
      "76729/76729 [==============================] - 942s 12ms/step - loss: 0.1678 - acc: 0.9285 - first_class_accuracy: 0.7230 - second_class_accuracy: 0.9717 - third_class_accuracy: 0.7350 - val_loss: 0.1746 - val_acc: 0.9224 - val_first_class_accuracy: 0.6353 - val_second_class_accuracy: 0.9508 - val_third_class_accuracy: 0.6467\n",
      "Epoch 9/100\n",
      "76729/76729 [==============================] - 943s 12ms/step - loss: 0.1644 - acc: 0.9293 - first_class_accuracy: 0.7335 - second_class_accuracy: 0.9715 - third_class_accuracy: 0.7381 - val_loss: 0.1687 - val_acc: 0.9266 - val_first_class_accuracy: 0.6438 - val_second_class_accuracy: 0.9744 - val_third_class_accuracy: 0.5959\n",
      "Epoch 10/100\n",
      "76729/76729 [==============================] - 942s 12ms/step - loss: 0.1581 - acc: 0.9314 - first_class_accuracy: 0.7409 - second_class_accuracy: 0.9730 - third_class_accuracy: 0.7397 - val_loss: 0.1694 - val_acc: 0.9251 - val_first_class_accuracy: 0.5906 - val_second_class_accuracy: 0.9550 - val_third_class_accuracy: 0.7156\n",
      "Epoch 11/100\n",
      "76729/76729 [==============================] - 959s 12ms/step - loss: 0.1521 - acc: 0.9334 - first_class_accuracy: 0.7477 - second_class_accuracy: 0.9736 - third_class_accuracy: 0.7515 - val_loss: 0.1604 - val_acc: 0.9288 - val_first_class_accuracy: 0.6771 - val_second_class_accuracy: 0.9732 - val_third_class_accuracy: 0.5797\n",
      "Epoch 12/100\n",
      "76729/76729 [==============================] - 942s 12ms/step - loss: 0.1490 - acc: 0.9341 - first_class_accuracy: 0.7482 - second_class_accuracy: 0.9736 - third_class_accuracy: 0.7506 - val_loss: 0.1591 - val_acc: 0.9271 - val_first_class_accuracy: 0.5940 - val_second_class_accuracy: 0.9747 - val_third_class_accuracy: 0.6317\n",
      "Epoch 13/100\n",
      "76729/76729 [==============================] - 942s 12ms/step - loss: 0.1440 - acc: 0.9358 - first_class_accuracy: 0.7508 - second_class_accuracy: 0.9758 - third_class_accuracy: 0.7538 - val_loss: 0.1569 - val_acc: 0.9296 - val_first_class_accuracy: 0.6070 - val_second_class_accuracy: 0.9671 - val_third_class_accuracy: 0.6564\n",
      "Epoch 14/100\n",
      "76729/76729 [==============================] - 941s 12ms/step - loss: 0.1404 - acc: 0.9364 - first_class_accuracy: 0.7502 - second_class_accuracy: 0.9754 - third_class_accuracy: 0.7574 - val_loss: 0.1553 - val_acc: 0.9272 - val_first_class_accuracy: 0.6070 - val_second_class_accuracy: 0.9665 - val_third_class_accuracy: 0.6419\n",
      "Epoch 15/100\n",
      "76729/76729 [==============================] - 941s 12ms/step - loss: 0.1378 - acc: 0.9371 - first_class_accuracy: 0.7534 - second_class_accuracy: 0.9760 - third_class_accuracy: 0.7621 - val_loss: 0.1530 - val_acc: 0.9281 - val_first_class_accuracy: 0.6155 - val_second_class_accuracy: 0.9726 - val_third_class_accuracy: 0.6159\n",
      "Epoch 16/100\n",
      "76729/76729 [==============================] - 755s 10ms/step - loss: 0.1350 - acc: 0.9386 - first_class_accuracy: 0.7610 - second_class_accuracy: 0.9763 - third_class_accuracy: 0.7699 - val_loss: 0.1542 - val_acc: 0.9306 - val_first_class_accuracy: 0.6645 - val_second_class_accuracy: 0.9750 - val_third_class_accuracy: 0.6078\n",
      "Epoch 17/100\n",
      "76729/76729 [==============================] - 475s 6ms/step - loss: 0.1341 - acc: 0.9388 - first_class_accuracy: 0.7580 - second_class_accuracy: 0.9766 - third_class_accuracy: 0.7661 - val_loss: 0.1538 - val_acc: 0.9304 - val_first_class_accuracy: 0.6001 - val_second_class_accuracy: 0.9748 - val_third_class_accuracy: 0.6390\n",
      "Epoch 18/100\n",
      "76729/76729 [==============================] - 475s 6ms/step - loss: 0.1300 - acc: 0.9407 - first_class_accuracy: 0.7645 - second_class_accuracy: 0.9774 - third_class_accuracy: 0.7754 - val_loss: 0.1525 - val_acc: 0.9308 - val_first_class_accuracy: 0.6267 - val_second_class_accuracy: 0.9683 - val_third_class_accuracy: 0.6503\n",
      "Epoch 19/100\n",
      "76729/76729 [==============================] - 475s 6ms/step - loss: 0.1282 - acc: 0.9411 - first_class_accuracy: 0.7659 - second_class_accuracy: 0.9780 - third_class_accuracy: 0.7738 - val_loss: 0.1542 - val_acc: 0.9294 - val_first_class_accuracy: 0.6043 - val_second_class_accuracy: 0.9744 - val_third_class_accuracy: 0.6288\n",
      "Epoch 20/100\n",
      "76729/76729 [==============================] - 474s 6ms/step - loss: 0.1259 - acc: 0.9418 - first_class_accuracy: 0.7675 - second_class_accuracy: 0.9780 - third_class_accuracy: 0.7771 - val_loss: 0.1565 - val_acc: 0.9298 - val_first_class_accuracy: 0.6666 - val_second_class_accuracy: 0.9616 - val_third_class_accuracy: 0.6261\n",
      "Epoch 21/100\n",
      "76729/76729 [==============================] - 474s 6ms/step - loss: 0.1241 - acc: 0.9433 - first_class_accuracy: 0.7745 - second_class_accuracy: 0.9789 - third_class_accuracy: 0.7753 - val_loss: 0.1567 - val_acc: 0.9294 - val_first_class_accuracy: 0.5956 - val_second_class_accuracy: 0.9768 - val_third_class_accuracy: 0.6391\n",
      "Epoch 22/100\n",
      "76729/76729 [==============================] - 474s 6ms/step - loss: 0.1214 - acc: 0.9443 - first_class_accuracy: 0.7790 - second_class_accuracy: 0.9791 - third_class_accuracy: 0.7851 - val_loss: 0.1622 - val_acc: 0.9278 - val_first_class_accuracy: 0.5792 - val_second_class_accuracy: 0.9736 - val_third_class_accuracy: 0.6480\n",
      "Epoch 23/100\n",
      "76729/76729 [==============================] - 474s 6ms/step - loss: 0.1193 - acc: 0.9449 - first_class_accuracy: 0.7754 - second_class_accuracy: 0.9798 - third_class_accuracy: 0.7888 - val_loss: 0.1565 - val_acc: 0.9299 - val_first_class_accuracy: 0.6190 - val_second_class_accuracy: 0.9708 - val_third_class_accuracy: 0.6316\n"
     ]
    }
   ],
   "source": [
    "history=model.fit([Q_train,C_train], y_train,batch_size=batch_size, epochs=epochs, verbose=1,\n",
    "                  class_weight=class_weight,\n",
    "                callbacks=callbacks, validation_data=([Q_dev,C_dev],y_dev))"
   ]
  },
  {
   "cell_type": "code",
   "execution_count": 65,
   "metadata": {},
   "outputs": [
    {
     "name": "stderr",
     "output_type": "stream",
     "text": [
      "15878it [00:01, 13661.70it/s]\n"
     ]
    }
   ],
   "source": [
    "Q_test,C_test,y_test=get_dataset(test_data_json_path,test_tables)"
   ]
  },
  {
   "cell_type": "code",
   "execution_count": 66,
   "metadata": {},
   "outputs": [],
   "source": [
    "y_test=lb.transform(y_test)"
   ]
  },
  {
   "cell_type": "code",
   "execution_count": 67,
   "metadata": {},
   "outputs": [],
   "source": [
    "model.load_weights('select_ops_best_model.h5')"
   ]
  },
  {
   "cell_type": "code",
   "execution_count": 68,
   "metadata": {},
   "outputs": [
    {
     "name": "stdout",
     "output_type": "stream",
     "text": [
      "21846/21846 [==============================] - 50s 2ms/step\n"
     ]
    },
    {
     "data": {
      "text/plain": [
       "[0.1524159171725142,\n",
       " 0.9326192438247756,\n",
       " 0.5447706026667853,\n",
       " 0.9687763402655902,\n",
       " 0.5702525642240011]"
      ]
     },
     "execution_count": 68,
     "metadata": {},
     "output_type": "execute_result"
    }
   ],
   "source": [
    "model.evaluate([Q_test,C_test],y_test,verbose=1)"
   ]
  },
  {
   "cell_type": "code",
   "execution_count": 69,
   "metadata": {},
   "outputs": [
    {
     "name": "stdout",
     "output_type": "stream",
     "text": [
      "76729/76729 [==============================] - 176s 2ms/step\n"
     ]
    },
    {
     "data": {
      "text/plain": [
       "[0.12127571474402668,\n",
       " 0.9456007506994387,\n",
       " 0.5698899705440841,\n",
       " 0.9768333085488969,\n",
       " 0.6050568816003008]"
      ]
     },
     "execution_count": 69,
     "metadata": {},
     "output_type": "execute_result"
    }
   ],
   "source": [
    "model.evaluate([Q_train,C_train],y_train,verbose=1)"
   ]
  },
  {
   "cell_type": "code",
   "execution_count": 70,
   "metadata": {},
   "outputs": [
    {
     "name": "stdout",
     "output_type": "stream",
     "text": [
      "11545/11545 [==============================] - 26s 2ms/step\n"
     ]
    },
    {
     "data": {
      "text/plain": [
       "[0.15254271694169824,\n",
       " 0.9307925508310393,\n",
       " 0.5380629533596185,\n",
       " 0.9666724815971535,\n",
       " 0.5742019966378615]"
      ]
     },
     "execution_count": 70,
     "metadata": {},
     "output_type": "execute_result"
    }
   ],
   "source": [
    "model.evaluate([Q_dev,C_dev],y_dev,verbose=1)"
   ]
  },
  {
   "cell_type": "code",
   "execution_count": 71,
   "metadata": {},
   "outputs": [
    {
     "data": {
      "image/png": "[encoded data removed]",
      "text/plain": [
       "<Figure size 1440x720 with 1 Axes>"
      ]
     },
     "metadata": {
      "needs_background": "light"
     },
     "output_type": "display_data"
    }
   ],
   "source": [
    "\n",
    "# Get training and test loss histories\n",
    "training_loss = history.history['loss']\n",
    "test_loss = history.history['val_loss']\n",
    "\n",
    "# Create count of the number of epochs\n",
    "epoch_count = range(1, len(training_loss) + 1)\n",
    "\n",
    "plt.figure(figsize=(20,10))\n",
    "# Visualize loss history\n",
    "plt.plot(epoch_count, training_loss, 'r--')\n",
    "plt.plot(epoch_count, test_loss, 'b-')\n",
    "plt.legend(['Training Loss', 'Validation Loss'])\n",
    "plt.xlabel('Epoch')\n",
    "plt.ylabel('Loss')\n",
    "plt.show();"
   ]
  },
  {
   "cell_type": "code",
   "execution_count": 72,
   "metadata": {},
   "outputs": [
    {
     "data": {
      "image/png": "[encoded data removed]",
      "text/plain": [
       "<Figure size 1440x720 with 1 Axes>"
      ]
     },
     "metadata": {
      "needs_background": "light"
     },
     "output_type": "display_data"
    }
   ],
   "source": [
    "\n",
    "# Get training and test loss histories\n",
    "training_acc = history.history['acc']\n",
    "val_acc = history.history['val_acc']\n",
    "\n",
    "training_one_acc = history.history['first_class_accuracy']\n",
    "val_one_acc = history.history['val_first_class_accuracy']\n",
    "\n",
    "training_second_acc = history.history['second_class_accuracy']\n",
    "val_second_acc = history.history['val_second_class_accuracy']\n",
    "\n",
    "training_third_acc = history.history['third_class_accuracy']\n",
    "val_third_acc = history.history['val_third_class_accuracy']\n",
    "\n",
    "\n",
    "# Create count of the number of epochs\n",
    "epoch_count = range(1, len(training_acc) + 1)\n",
    "\n",
    "plt.figure(figsize=(20,10))\n",
    "# Visualize loss history\n",
    "plt.plot(epoch_count, training_acc)\n",
    "plt.plot(epoch_count, val_acc)\n",
    "\n",
    "plt.plot(epoch_count, training_one_acc)\n",
    "plt.plot(epoch_count, val_one_acc)\n",
    "\n",
    "plt.plot(epoch_count, training_second_acc)\n",
    "plt.plot(epoch_count, val_second_acc)\n",
    "\n",
    "plt.plot(epoch_count, training_third_acc)\n",
    "plt.plot(epoch_count, val_third_acc)\n",
    "\n",
    "\n",
    "plt.legend(['Training Acc', 'Val Acc',\n",
    "           '1st Acc','Val 1st Acc',\n",
    "           '2nd Acc','Val 2nd Acc',\n",
    "           '3rd Acc','Val 3rd Acc'])\n",
    "plt.xlabel('Epoch')\n",
    "plt.ylabel('Acc')\n",
    "plt.show();"
   ]
  }
 ],
 "metadata": {
  "kernelspec": {
   "display_name": "Python 3",
   "language": "python",
   "name": "python3"
  },
  "language_info": {
   "codemirror_mode": {
    "name": "ipython",
    "version": 3
   },
   "file_extension": ".py",
   "mimetype": "text/x-python",
   "name": "python",
   "nbconvert_exporter": "python",
   "pygments_lexer": "ipython3",
   "version": "3.6.8"
  }
 },
 "nbformat": 4,
 "nbformat_minor": 2
}
