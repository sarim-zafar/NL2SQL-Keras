{
 "cells": [
  {
   "cell_type": "code",
   "execution_count": 1,
   "metadata": {},
   "outputs": [
    {
     "name": "stderr",
     "output_type": "stream",
     "text": [
      "Using TensorFlow backend.\n"
     ]
    }
   ],
   "source": [
    "import pandas as pd\n",
    "import jsonlines\n",
    "from tqdm import tqdm\n",
    "import os\n",
    "\n",
    "#run it on cpu because i have weak gpu(gt740)...\n",
    "#feel free to comment this out and see if you get any performance boost\n",
    "os.environ[\"CUDA_DEVICE_ORDER\"] = \"PCI_BUS_ID\"   # see issue #152\n",
    "os.environ[\"CUDA_VISIBLE_DEVICES\"] = \"\"\n",
    "\n",
    "from keras.preprocessing.text import Tokenizer\n",
    "from keras.preprocessing.sequence import pad_sequences\n",
    "import numpy as np\n",
    "import matplotlib.pyplot as plt\n",
    "plt.rcParams['figure.figsize'] = (20.0, 10.0)"
   ]
  },
  {
   "cell_type": "code",
   "execution_count": 2,
   "metadata": {},
   "outputs": [],
   "source": [
    "#Paths\n",
    "train_db_path='WikiSQL/data/train.db'\n",
    "train_data_json_path='WikiSQL/data/train.jsonl'\n",
    "train_table_json_path='WikiSQL/data/train.tables.jsonl'\n",
    "\n",
    "\n",
    "dev_db_path='WikiSQL/data/dev.db'\n",
    "dev_data_json_path='WikiSQL/data/dev.jsonl'\n",
    "dev_table_json_path='WikiSQL/data/dev.tables.jsonl'\n",
    "\n",
    "test_db_path='WikiSQL/data/test.db'\n",
    "test_data_json_path='WikiSQL/data/test.jsonl'\n",
    "test_table_json_path='WikiSQL/data/test.tables.jsonl'"
   ]
  },
  {
   "cell_type": "code",
   "execution_count": 3,
   "metadata": {},
   "outputs": [],
   "source": [
    "def get_col_tokens(table_json_path):\n",
    "    tokens=[]\n",
    "    with jsonlines.open(table_json_path) as reader:\n",
    "        for obj in tqdm(reader):\n",
    "            for header in obj['header']:\n",
    "                tokens.append(header)\n",
    "    return tokens"
   ]
  },
  {
   "cell_type": "code",
   "execution_count": 4,
   "metadata": {},
   "outputs": [],
   "source": [
    "def get_question_tokens(data_json_path):\n",
    "    tokens=[]\n",
    "    with jsonlines.open(data_json_path) as reader:\n",
    "        for obj in tqdm(reader):\n",
    "            tokens.append(obj['question'])\n",
    "    return tokens"
   ]
  },
  {
   "cell_type": "code",
   "execution_count": 5,
   "metadata": {},
   "outputs": [
    {
     "name": "stderr",
     "output_type": "stream",
     "text": [
      "18585it [00:00, 38674.20it/s]\n",
      "2716it [00:00, 33045.37it/s]\n",
      "5230it [00:00, 28099.53it/s]\n"
     ]
    }
   ],
   "source": [
    "texts=[]\n",
    "texts.extend(get_col_tokens(train_table_json_path))\n",
    "texts.extend(get_col_tokens(dev_table_json_path))\n",
    "texts.extend(get_col_tokens(test_table_json_path))"
   ]
  },
  {
   "cell_type": "code",
   "execution_count": 6,
   "metadata": {},
   "outputs": [
    {
     "name": "stderr",
     "output_type": "stream",
     "text": [
      "56355it [00:00, 151822.98it/s]\n",
      "8421it [00:00, 134576.34it/s]\n",
      "15878it [00:00, 156274.87it/s]\n"
     ]
    }
   ],
   "source": [
    "texts.extend(get_question_tokens(train_data_json_path))\n",
    "texts.extend(get_question_tokens(dev_data_json_path))\n",
    "texts.extend(get_question_tokens(test_data_json_path))"
   ]
  },
  {
   "cell_type": "code",
   "execution_count": 7,
   "metadata": {},
   "outputs": [],
   "source": [
    "tokenizer=Tokenizer(char_level=True,lower=True)\n",
    "tokenizer.fit_on_texts(texts)"
   ]
  },
  {
   "cell_type": "code",
   "execution_count": 8,
   "metadata": {},
   "outputs": [
    {
     "data": {
      "text/plain": [
       "1246"
      ]
     },
     "execution_count": 8,
     "metadata": {},
     "output_type": "execute_result"
    }
   ],
   "source": [
    "max_token_index=len(tokenizer.index_word.keys())+1\n",
    "max_token_index"
   ]
  },
  {
   "cell_type": "code",
   "execution_count": 9,
   "metadata": {},
   "outputs": [
    {
     "data": {
      "text/plain": [
       "1245"
      ]
     },
     "execution_count": 9,
     "metadata": {},
     "output_type": "execute_result"
    }
   ],
   "source": [
    "random=tokenizer.index_word.values()\n",
    "len(random)"
   ]
  },
  {
   "cell_type": "code",
   "execution_count": 10,
   "metadata": {},
   "outputs": [],
   "source": [
    "def text2seq(text):\n",
    "    return np.ravel([tokenizer.texts_to_sequences([text])])"
   ]
  },
  {
   "cell_type": "code",
   "execution_count": 11,
   "metadata": {},
   "outputs": [
    {
     "data": {
      "text/plain": [
       "419"
      ]
     },
     "execution_count": 11,
     "metadata": {},
     "output_type": "execute_result"
    }
   ],
   "source": [
    "max_len=0\n",
    "for text in texts:\n",
    "    if len(text2seq(text))>max_len:\n",
    "        max_len=len(text2seq(text))\n",
    "max_len"
   ]
  },
  {
   "cell_type": "code",
   "execution_count": 12,
   "metadata": {},
   "outputs": [],
   "source": [
    "def text2seq(text):\n",
    "    return np.ravel(pad_sequences(tokenizer.texts_to_sequences([text]),maxlen=max_len,padding='post'))"
   ]
  },
  {
   "cell_type": "code",
   "execution_count": 13,
   "metadata": {},
   "outputs": [
    {
     "data": {
      "image/png": "[encoded data removed]",
      "text/plain": [
       "<Figure size 432x288 with 1 Axes>"
      ]
     },
     "metadata": {
      "needs_background": "light"
     },
     "output_type": "display_data"
    }
   ],
   "source": [
    "df = pd.Series(texts)\n",
    "df.str.len().hist(bins=100)\n",
    "plt.show()"
   ]
  },
  {
   "cell_type": "code",
   "execution_count": 14,
   "metadata": {},
   "outputs": [],
   "source": [
    "del texts"
   ]
  },
  {
   "cell_type": "code",
   "execution_count": 15,
   "metadata": {},
   "outputs": [],
   "source": [
    "#make a dict to keep track of all the columns of all the tables\n",
    "def get_table(table_json_path):\n",
    "    tables={}\n",
    "    with jsonlines.open(table_json_path) as reader:\n",
    "        for obj in tqdm(reader):\n",
    "            tables[obj['id']]={'headers':[],'types':[]}\n",
    "            tables[obj['id']]['headers']=obj['header']\n",
    "            tables[obj['id']]['types']=obj['types']\n",
    "    return tables"
   ]
  },
  {
   "cell_type": "code",
   "execution_count": 16,
   "metadata": {},
   "outputs": [
    {
     "name": "stderr",
     "output_type": "stream",
     "text": [
      "18585it [00:00, 32001.39it/s]\n",
      "2716it [00:00, 38625.07it/s]\n",
      "5230it [00:00, 36170.67it/s]\n"
     ]
    }
   ],
   "source": [
    "train_tables=get_table(train_table_json_path)\n",
    "dev_tables=get_table(dev_table_json_path)\n",
    "test_tables=get_table(test_table_json_path)"
   ]
  },
  {
   "cell_type": "code",
   "execution_count": 17,
   "metadata": {},
   "outputs": [],
   "source": [
    "def get_select_col(dict_obj,tables):\n",
    "    temp=tables[dict_obj['table_id']]['headers']\n",
    "    true_selected_column = temp[dict_obj['sql']['sel']]\n",
    "    false_selected_columns = []\n",
    "    for selected_column in temp:\n",
    "        if selected_column != true_selected_column:\n",
    "            false_selected_columns.append(selected_column)\n",
    "    return true_selected_column,false_selected_columns\n",
    "    "
   ]
  },
  {
   "cell_type": "code",
   "execution_count": 18,
   "metadata": {},
   "outputs": [],
   "source": [
    "def get_dataset(data_json_path,table):\n",
    "    #read the jsonl file\n",
    "    Q=[]\n",
    "    C=[]\n",
    "    y=[]\n",
    "    global tokenizer\n",
    "    with jsonlines.open(data_json_path) as reader:\n",
    "        for obj in tqdm(reader):\n",
    "            true_column,false_columns=get_select_col(obj,table)\n",
    "            question=obj['question']\n",
    "    \n",
    "            #tokenized representation\n",
    "            question=text2seq(question)\n",
    "            true_column=text2seq(true_column)\n",
    "\n",
    "            for i in range(len(false_columns)):\n",
    "                false_columns[i]=text2seq(false_columns[i])\n",
    "            Q.append(question)\n",
    "            C.append(true_column)\n",
    "            y.append(1)\n",
    "            for false_column in false_columns:\n",
    "                Q.append(question)\n",
    "                C.append(false_column)\n",
    "                y.append(0)\n",
    "    return Q,C,y"
   ]
  },
  {
   "cell_type": "code",
   "execution_count": 19,
   "metadata": {
    "scrolled": true
   },
   "outputs": [
    {
     "name": "stderr",
     "output_type": "stream",
     "text": [
      "56355it [00:13, 4126.43it/s]\n"
     ]
    }
   ],
   "source": [
    "Q_train,C_train,y_train=get_dataset(train_data_json_path,train_tables)"
   ]
  },
  {
   "cell_type": "code",
   "execution_count": 20,
   "metadata": {},
   "outputs": [
    {
     "name": "stderr",
     "output_type": "stream",
     "text": [
      "8421it [00:02, 3924.46it/s]\n"
     ]
    }
   ],
   "source": [
    "Q_dev,C_dev,y_dev=get_dataset(dev_data_json_path,dev_tables)"
   ]
  },
  {
   "cell_type": "code",
   "execution_count": 21,
   "metadata": {},
   "outputs": [
    {
     "name": "stdout",
     "output_type": "stream",
     "text": [
      "56355 304309\n"
     ]
    }
   ],
   "source": [
    "pos=0\n",
    "neg=0\n",
    "for i in range(len(y_train)):\n",
    "    if y_train[i]==0:\n",
    "        neg+=1\n",
    "    else:\n",
    "        pos+=1\n",
    "        \n",
    "print(pos,neg)"
   ]
  },
  {
   "cell_type": "code",
   "execution_count": 22,
   "metadata": {},
   "outputs": [],
   "source": [
    "idx=[]\n",
    "for i in range(len(y_train)):\n",
    "    if y_train[i]==0:\n",
    "        #coin toss with 50% prob.\n",
    "        if np.random.randint(2):\n",
    "            idx.append(i)\n",
    "idx.sort(reverse=True)\n",
    "for i in idx:\n",
    "    Q_train.pop(i)\n",
    "    C_train.pop(i)\n",
    "    y_train.pop(i)"
   ]
  },
  {
   "cell_type": "code",
   "execution_count": 23,
   "metadata": {},
   "outputs": [
    {
     "data": {
      "text/plain": [
       "208942"
      ]
     },
     "execution_count": 23,
     "metadata": {},
     "output_type": "execute_result"
    }
   ],
   "source": [
    "len(y_train)"
   ]
  },
  {
   "cell_type": "code",
   "execution_count": 24,
   "metadata": {},
   "outputs": [],
   "source": [
    "#dimension\n",
    "d=64"
   ]
  },
  {
   "cell_type": "code",
   "execution_count": 25,
   "metadata": {},
   "outputs": [],
   "source": [
    "from keras.models import Model\n",
    "from keras.layers import Input, GRU, Dense ,Flatten , Concatenate,Lambda\n",
    "from keras.layers.embeddings import Embedding"
   ]
  },
  {
   "cell_type": "code",
   "execution_count": 26,
   "metadata": {},
   "outputs": [],
   "source": [
    "from keras.constraints import max_norm\n",
    "from keras import regularizers\n",
    "from keras.layers import Bidirectional"
   ]
  },
  {
   "cell_type": "code",
   "execution_count": 27,
   "metadata": {},
   "outputs": [],
   "source": [
    "from keras import backend as K\n",
    "def euclidean_distance(vects):\n",
    "    x, y = vects\n",
    "    sum_square = K.sum(K.square(x - y), axis=1, keepdims=True)\n",
    "    return K.sqrt(K.maximum(sum_square, K.epsilon()))\n",
    "\n",
    "\n",
    "def eucl_dist_output_shape(shapes):\n",
    "    shape1, shape2 = shapes\n",
    "    return (shape1[0], 1)\n",
    "\n",
    "\n",
    "def contrastive_loss(y_true, y_pred):\n",
    "    '''Contrastive loss from Hadsell-et-al.'06\n",
    "    http://yann.lecun.com/exdb/publis/pdf/hadsell-chopra-lecun-06.pdf\n",
    "    '''\n",
    "    margin = 1\n",
    "    sqaure_pred = K.square(y_pred)\n",
    "    margin_square = K.square(K.maximum(margin - y_pred, 0))\n",
    "    return K.mean(y_true * sqaure_pred + (1 - y_true) * margin_square)\n",
    "\n",
    "def compute_accuracy(y_true, y_pred):\n",
    "    '''Compute classification accuracy with a fixed threshold on distances.\n",
    "    '''\n",
    "    pred = y_pred.ravel() < 0.5\n",
    "    return np.mean(pred == y_true)\n",
    "\n",
    "\n",
    "def accuracy(y_true, y_pred):\n",
    "    '''Compute classification accuracy with a fixed threshold on distances.\n",
    "    '''\n",
    "    return K.mean(K.equal(y_true, K.cast(y_pred < 0.5, y_true.dtype)))"
   ]
  },
  {
   "cell_type": "code",
   "execution_count": 28,
   "metadata": {},
   "outputs": [
    {
     "name": "stdout",
     "output_type": "stream",
     "text": [
      "__________________________________________________________________________________________________\n",
      "Layer (type)                    Output Shape         Param #     Connected to                     \n",
      "==================================================================================================\n",
      "Q_input (InputLayer)            (None, 419)          0                                            \n",
      "__________________________________________________________________________________________________\n",
      "C_input (InputLayer)            (None, 419)          0                                            \n",
      "__________________________________________________________________________________________________\n",
      "embedding (Embedding)           (None, 419, 64)      79744       Q_input[0][0]                    \n",
      "                                                                 C_input[0][0]                    \n",
      "__________________________________________________________________________________________________\n",
      "bidirectional_1 (Bidirectional) [(None, 128), (None, 49536       embedding[0][0]                  \n",
      "__________________________________________________________________________________________________\n",
      "bidirectional_2 (Bidirectional) [(None, 128), (None, 49536       embedding[1][0]                  \n",
      "__________________________________________________________________________________________________\n",
      "concatenate_1 (Concatenate)     (None, 128)          0           bidirectional_1[0][1]            \n",
      "                                                                 bidirectional_1[0][2]            \n",
      "__________________________________________________________________________________________________\n",
      "concatenate_2 (Concatenate)     (None, 128)          0           bidirectional_2[0][1]            \n",
      "                                                                 bidirectional_2[0][2]            \n",
      "__________________________________________________________________________________________________\n",
      "lambda_1 (Lambda)               (None, 1)            0           concatenate_1[0][0]              \n",
      "                                                                 concatenate_2[0][0]              \n",
      "==================================================================================================\n",
      "Total params: 178,816\n",
      "Trainable params: 178,816\n",
      "Non-trainable params: 0\n",
      "__________________________________________________________________________________________________\n"
     ]
    }
   ],
   "source": [
    "# Define an input sequence and process it.\n",
    "question_input = Input(shape=(max_len,),name='Q_input')\n",
    "column_input = Input(shape=(max_len,),name='C_input')\n",
    "\n",
    "embedding= Embedding(max_token_index, d, input_length=max_len,name='embedding',mask_zero=True)\n",
    "# embedding_C= Embedding(max_token_index, d, input_length=max_len,name='embedding_C')\n",
    "#                      embeddings_constraint=max_norm(2.),\n",
    "#                      embeddings_regularizer=regularizers.l1_l2(l1=0.001, l2=0.001))\n",
    "\n",
    "Q_embedding= embedding(question_input)\n",
    "C_embedding= embedding(column_input)\n",
    "\n",
    "\n",
    "\n",
    "encoder_question = Bidirectional(GRU(d, return_state=True))\n",
    "_ , Q_state_h1, Q_state_h2 = encoder_question(Q_embedding)\n",
    "\n",
    "encoder_column = Bidirectional(GRU(d, return_state=True))\n",
    "_ , C_state_h1, C_state_h2 = encoder_column(C_embedding)\n",
    "\n",
    "\n",
    "con_Q=Concatenate()([Q_state_h1,Q_state_h2])\n",
    "con_C=Concatenate()([C_state_h1,C_state_h2])\n",
    "\n",
    "final = Lambda(euclidean_distance,\n",
    "                  output_shape=eucl_dist_output_shape)([con_Q, con_C])\n",
    "# final=Dense(1,activation='sigmoid')(con)\n",
    "\n",
    "model = Model([question_input, column_input], final)\n",
    "model.summary()"
   ]
  },
  {
   "cell_type": "code",
   "execution_count": 29,
   "metadata": {},
   "outputs": [],
   "source": [
    "from keras import optimizers\n",
    "\n",
    "opt = optimizers.Adam()"
   ]
  },
  {
   "cell_type": "code",
   "execution_count": 30,
   "metadata": {
    "scrolled": true
   },
   "outputs": [],
   "source": [
    "# Run training\n",
    "model.compile(optimizer=opt, loss=contrastive_loss,metrics=[accuracy])"
   ]
  },
  {
   "cell_type": "code",
   "execution_count": 31,
   "metadata": {},
   "outputs": [],
   "source": [
    "batch_size = 128  # Batch size for training.\n",
    "epochs = 100  # Number of epochs to train for."
   ]
  },
  {
   "cell_type": "code",
   "execution_count": 32,
   "metadata": {},
   "outputs": [],
   "source": [
    "from keras.callbacks import EarlyStopping, ModelCheckpoint\n",
    "# Set callback functions to early stop training and save the best model so far\n",
    "callbacks = [EarlyStopping(monitor='val_loss', patience=5),\n",
    "             ModelCheckpoint(filepath='select_col_best_model.h5', monitor='val_loss', save_best_only=True)]"
   ]
  },
  {
   "cell_type": "code",
   "execution_count": 33,
   "metadata": {},
   "outputs": [
    {
     "data": {
      "text/plain": [
       "array([0.68466514, 1.85380179])"
      ]
     },
     "execution_count": 33,
     "metadata": {},
     "output_type": "execute_result"
    }
   ],
   "source": [
    "from sklearn.utils.class_weight import compute_class_weight\n",
    "class_weight=compute_class_weight('balanced',np.unique(y_train),y_train)\n",
    "class_weight"
   ]
  },
  {
   "cell_type": "code",
   "execution_count": null,
   "metadata": {
    "scrolled": true
   },
   "outputs": [
    {
     "name": "stdout",
     "output_type": "stream",
     "text": [
      "Train on 208942 samples, validate on 53406 samples\n",
      "Epoch 1/100\n",
      " 59520/208942 [=======>......................] - ETA: 32:32 - loss: 0.2010 - accuracy: 0.7239"
     ]
    }
   ],
   "source": [
    "history=model.fit([Q_train,C_train], y_train,batch_size=batch_size, epochs=epochs, verbose=1,class_weight=class_weight,\n",
    "                callbacks=callbacks, validation_data=([Q_dev,C_dev],y_dev))"
   ]
  },
  {
   "cell_type": "code",
   "execution_count": null,
   "metadata": {},
   "outputs": [],
   "source": [
    "Q_test,C_test,y_test=get_dataset(test_data_json_path,test_tables)"
   ]
  },
  {
   "cell_type": "code",
   "execution_count": null,
   "metadata": {},
   "outputs": [],
   "source": [
    "model.load_weights('select_col_best_model.h5')"
   ]
  },
  {
   "cell_type": "code",
   "execution_count": null,
   "metadata": {},
   "outputs": [],
   "source": [
    "model.evaluate([Q_test,C_test],y_test,verbose=1)"
   ]
  },
  {
   "cell_type": "code",
   "execution_count": null,
   "metadata": {},
   "outputs": [],
   "source": [
    "model.evaluate([Q_train,C_train],y_train,verbose=1)"
   ]
  },
  {
   "cell_type": "code",
   "execution_count": null,
   "metadata": {},
   "outputs": [],
   "source": [
    "model.evaluate([Q_dev,C_dev],y_dev,verbose=1)"
   ]
  },
  {
   "cell_type": "code",
   "execution_count": 44,
   "metadata": {},
   "outputs": [
    {
     "data": {
      "image/png": "[encoded data removed]",
      "text/plain": [
       "<Figure size 1440x720 with 1 Axes>"
      ]
     },
     "metadata": {
      "needs_background": "light"
     },
     "output_type": "display_data"
    }
   ],
   "source": [
    "\n",
    "# Get training and test loss histories\n",
    "training_loss = history.history['loss']\n",
    "test_loss = history.history['val_loss']\n",
    "\n",
    "# Create count of the number of epochs\n",
    "epoch_count = range(1, len(training_loss) + 1)\n",
    "\n",
    "plt.figure(figsize=(20,10))\n",
    "# Visualize loss history\n",
    "plt.plot(epoch_count, training_loss, 'r--')\n",
    "plt.plot(epoch_count, test_loss, 'b-')\n",
    "plt.legend(['Training Loss', 'Validation Loss'])\n",
    "plt.xlabel('Epoch')\n",
    "plt.ylabel('Loss')\n",
    "plt.show();"
   ]
  },
  {
   "cell_type": "code",
   "execution_count": 45,
   "metadata": {},
   "outputs": [
    {
     "data": {
      "image/png": "[encoded data removed]",
      "text/plain": [
       "<Figure size 1440x720 with 1 Axes>"
      ]
     },
     "metadata": {
      "needs_background": "light"
     },
     "output_type": "display_data"
    }
   ],
   "source": [
    "# ,maxlen=max_len,padding='post'# Get training and test loss histories\n",
    "training_acc = history.history['accuracy']\n",
    "test_acc = history.history['val_accuracy']\n",
    "\n",
    "plt.figure(figsize=(20,10))\n",
    "# Create count of the number of epochs\n",
    "epoch_count = range(1, len(training_loss) + 1)\n",
    "\n",
    "# Visualize loss history\n",
    "plt.plot(epoch_count, training_acc, 'r--')\n",
    "plt.plot(epoch_count, test_acc, 'b-')\n",
    "plt.legend(['Training Acc', 'Validation Acc'])\n",
    "plt.xlabel('Epoch')\n",
    "plt.ylabel('Acc')\n",
    "plt.show();"
   ]
  },
  {
   "cell_type": "code",
   "execution_count": null,
   "metadata": {},
   "outputs": [],
   "source": []
  }
 ],
 "metadata": {
  "kernelspec": {
   "display_name": "Python 3",
   "language": "python",
   "name": "python3"
  },
  "language_info": {
   "codemirror_mode": {
    "name": "ipython",
    "version": 3
   },
   "file_extension": ".py",
   "mimetype": "text/x-python",
   "name": "python",
   "nbconvert_exporter": "python",
   "pygments_lexer": "ipython3",
   "version": "3.6.8"
  }
 },
 "nbformat": 4,
 "nbformat_minor": 2
}
